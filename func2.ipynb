{
 "cells": [
  {
   "cell_type": "markdown",
   "metadata": {},
   "source": [
    "variable argument function (n no. of arguments)"
   ]
  },
  {
   "cell_type": "code",
   "execution_count": 1,
   "metadata": {},
   "outputs": [],
   "source": [
    "#bekar function\n",
    "def add(x,y,z,a,b,c,d,e,f,g):\n",
    "    return x+y+z+a+b+c+d+e+f+g"
   ]
  },
  {
   "cell_type": "code",
   "execution_count": 3,
   "metadata": {},
   "outputs": [
    {
     "data": {
      "text/plain": [
       "378"
      ]
     },
     "execution_count": 3,
     "metadata": {},
     "output_type": "execute_result"
    }
   ],
   "source": [
    "add(25,33,54,25,7,25,45,65,87,12)"
   ]
  },
  {
   "cell_type": "code",
   "execution_count": 7,
   "metadata": {},
   "outputs": [],
   "source": [
    "def mul(*args):\n",
    "    t=1\n",
    "    for i in args:\n",
    "        t*=i\n",
    "    return t"
   ]
  },
  {
   "cell_type": "code",
   "execution_count": 8,
   "metadata": {},
   "outputs": [
    {
     "data": {
      "text/plain": [
       "4233600"
      ]
     },
     "execution_count": 8,
     "metadata": {},
     "output_type": "execute_result"
    }
   ],
   "source": [
    "mul(21,100,56,36)"
   ]
  },
  {
   "cell_type": "code",
   "execution_count": 12,
   "metadata": {},
   "outputs": [],
   "source": [
    "def avg(*args):\n",
    "    a=len(args)\n",
    "    t=0\n",
    "    for i in args:\n",
    "        t+=i\n",
    "    r=t/a\n",
    "    return r"
   ]
  },
  {
   "cell_type": "code",
   "execution_count": 13,
   "metadata": {},
   "outputs": [
    {
     "data": {
      "text/plain": [
       "58.4"
      ]
     },
     "execution_count": 13,
     "metadata": {},
     "output_type": "execute_result"
    }
   ],
   "source": [
    "avg(23,45,65,85,74)"
   ]
  },
  {
   "attachments": {},
   "cell_type": "markdown",
   "metadata": {},
   "source": [
    "**kwargs (variable keyword argument) (n no. of keyword arguments)"
   ]
  },
  {
   "cell_type": "code",
   "execution_count": 17,
   "metadata": {},
   "outputs": [],
   "source": [
    "def display_menu(**items):\n",
    "    if len(items)>0:\n",
    "        for i in items:\n",
    "            print(f\"(¬‿¬){i:10} ${items[i]}\")"
   ]
  },
  {
   "cell_type": "code",
   "execution_count": 18,
   "metadata": {},
   "outputs": [
    {
     "name": "stdout",
     "output_type": "stream",
     "text": [
      "(¬‿¬)samosa     $10\n",
      "(¬‿¬)tea        $15\n",
      "(¬‿¬)chaat      $20\n",
      "(¬‿¬)khasta     $30\n",
      "(¬‿¬)batashe    $20\n"
     ]
    }
   ],
   "source": [
    "display_menu(samosa=10,tea=15,chaat=20,khasta=30,batashe=20)"
   ]
  },
  {
   "attachments": {},
   "cell_type": "markdown",
   "metadata": {},
   "source": [
    "#anonymous function\n",
    "- lambda expression\n",
    "- map\n",
    "- filter\n",
    "f(x)=x+3*3\n",
    "g(x,y)=(x+y)*(x-y)\n"
   ]
  },
  {
   "cell_type": "code",
   "execution_count": 19,
   "metadata": {},
   "outputs": [
    {
     "name": "stdout",
     "output_type": "stream",
     "text": [
      "-297\n",
      "-448\n",
      "-3536\n",
      "2544\n"
     ]
    }
   ],
   "source": [
    "xlist=[12,54,35,65]\n",
    "ylist=[21,58,69,41]\n",
    "\n",
    "def eq(x,y):\n",
    "    return (x+y)*(x-y)\n",
    "\n",
    "for i,j in zip(xlist,ylist):\n",
    "    print(eq(i,j))"
   ]
  },
  {
   "cell_type": "code",
   "execution_count": 21,
   "metadata": {},
   "outputs": [],
   "source": [
    "f=lambda x:x+10/x-10*x-10"
   ]
  },
  {
   "cell_type": "code",
   "execution_count": 22,
   "metadata": {},
   "outputs": [
    {
     "data": {
      "text/plain": [
       "-99.0"
      ]
     },
     "execution_count": 22,
     "metadata": {},
     "output_type": "execute_result"
    }
   ],
   "source": [
    "f(10)"
   ]
  },
  {
   "cell_type": "code",
   "execution_count": 24,
   "metadata": {},
   "outputs": [
    {
     "data": {
      "text/plain": [
       "[-297, -448, -3536, 2544]"
      ]
     },
     "execution_count": 24,
     "metadata": {},
     "output_type": "execute_result"
    }
   ],
   "source": [
    "list(map(lambda x,y:(x+y)*(x-y),xlist,ylist))"
   ]
  },
  {
   "cell_type": "code",
   "execution_count": 25,
   "metadata": {},
   "outputs": [],
   "source": [
    "#initials\n",
    "name=[\"Ayush tiwari\",\"Anshu singh\",\"Shruti mishra\",\"Nivedita khaana\",\"Aryamaan Raj\",\"Arya sharma\",\"Shivam pandey\"]"
   ]
  },
  {
   "cell_type": "code",
   "execution_count": 27,
   "metadata": {},
   "outputs": [
    {
     "name": "stdout",
     "output_type": "stream",
     "text": [
      "Ayush tiwari At\n",
      "Anshu singh As\n",
      "Shruti mishra Sm\n",
      "Nivedita khaana Nk\n",
      "Aryamaan Raj AR\n",
      "Arya sharma As\n",
      "Shivam pandey Sp\n"
     ]
    }
   ],
   "source": [
    "def get_initials(name):\n",
    "    return name.split()[0][0]+name.split()[1][0]\n",
    "\n",
    "for i in name:\n",
    "    print(i,get_initials(i))"
   ]
  },
  {
   "cell_type": "code",
   "execution_count": 29,
   "metadata": {},
   "outputs": [
    {
     "data": {
      "text/plain": [
       "['At', 'As', 'Sm', 'Nk', 'AR', 'As', 'Sp']"
      ]
     },
     "execution_count": 29,
     "metadata": {},
     "output_type": "execute_result"
    }
   ],
   "source": [
    "list(map(lambda n:n.split()[0][0]+n.split()[1][0],name))"
   ]
  },
  {
   "cell_type": "code",
   "execution_count": null,
   "metadata": {},
   "outputs": [],
   "source": []
  }
 ],
 "metadata": {
  "kernelspec": {
   "display_name": "base",
   "language": "python",
   "name": "python3"
  },
  "language_info": {
   "codemirror_mode": {
    "name": "ipython",
    "version": 3
   },
   "file_extension": ".py",
   "mimetype": "text/x-python",
   "name": "python",
   "nbconvert_exporter": "python",
   "pygments_lexer": "ipython3",
   "version": "3.10.8"
  },
  "orig_nbformat": 4,
  "vscode": {
   "interpreter": {
    "hash": "79d71d161e7943240a345005223b4b57f09b9732a24e4917a9c0467b3aef16ea"
   }
  }
 },
 "nbformat": 4,
 "nbformat_minor": 2
}
