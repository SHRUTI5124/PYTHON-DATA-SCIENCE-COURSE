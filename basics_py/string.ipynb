{
 "cells": [
  {
   "cell_type": "code",
   "execution_count": 1,
   "metadata": {},
   "outputs": [
    {
     "data": {
      "text/plain": [
       "13"
      ]
     },
     "execution_count": 1,
     "metadata": {},
     "output_type": "execute_result"
    }
   ],
   "source": [
    "name=\"Shruti Mishra\"\n",
    "len(name)"
   ]
  },
  {
   "attachments": {},
   "cell_type": "markdown",
   "metadata": {},
   "source": [
    "python indexing\n",
    "- +ve indexing\n",
    "- -ve indexing"
   ]
  },
  {
   "cell_type": "code",
   "execution_count": 2,
   "metadata": {},
   "outputs": [
    {
     "name": "stdout",
     "output_type": "stream",
     "text": [
      "S\n",
      "a\n"
     ]
    }
   ],
   "source": [
    "print(name[0])\n",
    "print(name[-1])"
   ]
  },
  {
   "cell_type": "code",
   "execution_count": 3,
   "metadata": {},
   "outputs": [
    {
     "name": "stdout",
     "output_type": "stream",
     "text": [
      "S u M\n"
     ]
    }
   ],
   "source": [
    "print(name[0],name[3],name[7])"
   ]
  },
  {
   "attachments": {},
   "cell_type": "markdown",
   "metadata": {},
   "source": [
    "- slicing\n",
    "\n",
    "      x[ start_idx : end_idx : step]\n",
    "\n",
    "examples\n",
    "- x[5:15]  -> 5th to 14th index data\n",
    "- x[ :10]  -> begin from 0th index to 9th index\n",
    "- x[5: ]   -> 5th index to end of data"
   ]
  },
  {
   "cell_type": "code",
   "execution_count": 4,
   "metadata": {},
   "outputs": [
    {
     "data": {
      "text/plain": [
       "'Mishra'"
      ]
     },
     "execution_count": 4,
     "metadata": {},
     "output_type": "execute_result"
    }
   ],
   "source": [
    "name[7:]"
   ]
  },
  {
   "cell_type": "code",
   "execution_count": 5,
   "metadata": {},
   "outputs": [
    {
     "data": {
      "text/plain": [
       "'Mishra'"
      ]
     },
     "execution_count": 5,
     "metadata": {},
     "output_type": "execute_result"
    }
   ],
   "source": [
    "name[-6:]"
   ]
  },
  {
   "cell_type": "code",
   "execution_count": 6,
   "metadata": {},
   "outputs": [
    {
     "name": "stdout",
     "output_type": "stream",
     "text": [
      "Shruti \n",
      "Mishra\n"
     ]
    }
   ],
   "source": [
    "fname=name[:7]\n",
    "lname=name[-6:]\n",
    "print(fname)\n",
    "print(lname)"
   ]
  },
  {
   "cell_type": "code",
   "execution_count": 7,
   "metadata": {},
   "outputs": [
    {
     "data": {
      "text/plain": [
       "'huiMsr'"
      ]
     },
     "execution_count": 7,
     "metadata": {},
     "output_type": "execute_result"
    }
   ],
   "source": [
    "name[1::2]"
   ]
  },
  {
   "cell_type": "code",
   "execution_count": 8,
   "metadata": {},
   "outputs": [
    {
     "data": {
      "text/plain": [
       "'arhsiM iturhS'"
      ]
     },
     "execution_count": 8,
     "metadata": {},
     "output_type": "execute_result"
    }
   ],
   "source": [
    "name[::-1] #reverse string"
   ]
  },
  {
   "cell_type": "code",
   "execution_count": 9,
   "metadata": {},
   "outputs": [
    {
     "data": {
      "text/plain": [
       "'cyclop'"
      ]
     },
     "execution_count": 9,
     "metadata": {},
     "output_type": "execute_result"
    }
   ],
   "source": [
    "x=\"Encyclopedia\"\n",
    "x[-5:]\n",
    "x[2:-4]"
   ]
  },
  {
   "cell_type": "code",
   "execution_count": 10,
   "metadata": {},
   "outputs": [
    {
     "data": {
      "text/plain": [
       "'cycloped'"
      ]
     },
     "execution_count": 10,
     "metadata": {},
     "output_type": "execute_result"
    }
   ],
   "source": [
    "x[2:-2]"
   ]
  },
  {
   "cell_type": "code",
   "execution_count": 11,
   "metadata": {},
   "outputs": [
    {
     "data": {
      "text/plain": [
       "'ishra'"
      ]
     },
     "execution_count": 11,
     "metadata": {},
     "output_type": "execute_result"
    }
   ],
   "source": [
    "name[::-1][:5][::-1]"
   ]
  },
  {
   "attachments": {},
   "cell_type": "markdown",
   "metadata": {},
   "source": [
    "- String methods\n",
    "\n",
    "formatting methods :\n",
    "\n",
    "            - upper()\n",
    "            - lower()\n",
    "            - capitalize()\n",
    "            - swapcase()\n",
    "            - casefold()\n",
    "            - title()\n",
    "            - center()\n",
    "            - ljust()\n",
    "            - rjust()\n",
    "\n",
    "validation method :\n",
    "\n",
    "            - isnumeric()\n",
    "            - isalnum()\n",
    "            - isalpha()\n",
    "            - islower()\n",
    "            - isupper()\n",
    "            - istitle()\n",
    "            - startswith()\n",
    "            - endswith()\n"
   ]
  },
  {
   "cell_type": "code",
   "execution_count": 12,
   "metadata": {},
   "outputs": [
    {
     "data": {
      "text/plain": [
       "['hello', 'world']"
      ]
     },
     "execution_count": 12,
     "metadata": {},
     "output_type": "execute_result"
    }
   ],
   "source": [
    "x='hello world'\n",
    "x.split()"
   ]
  },
  {
   "cell_type": "code",
   "execution_count": 13,
   "metadata": {},
   "outputs": [
    {
     "name": "stdout",
     "output_type": "stream",
     "text": [
      "JOURNEY BEFORE DESTINATION\n",
      "journey before destination\n",
      "Journey Before Destination\n",
      "jOURNEY BEFORE dESTINATION\n",
      "Journey before destination\n",
      "journey before destination\n"
     ]
    }
   ],
   "source": [
    "msg='Journey before Destination'\n",
    "print(msg.upper())\n",
    "print(msg.lower())\n",
    "print(msg.title())\n",
    "print(msg.swapcase())\n",
    "print(msg.capitalize())\n",
    "print(msg.casefold())"
   ]
  },
  {
   "cell_type": "code",
   "execution_count": 15,
   "metadata": {},
   "outputs": [
    {
     "data": {
      "text/plain": [
       "False"
      ]
     },
     "execution_count": 15,
     "metadata": {},
     "output_type": "execute_result"
    }
   ],
   "source": [
    "msg.isalpha()"
   ]
  },
  {
   "cell_type": "code",
   "execution_count": 16,
   "metadata": {},
   "outputs": [
    {
     "data": {
      "text/plain": [
       "True"
      ]
     },
     "execution_count": 16,
     "metadata": {},
     "output_type": "execute_result"
    }
   ],
   "source": [
    "\"Oregano\".isalpha()"
   ]
  },
  {
   "cell_type": "code",
   "execution_count": 18,
   "metadata": {},
   "outputs": [
    {
     "name": "stdout",
     "output_type": "stream",
     "text": [
      "U are following the instructions.\n"
     ]
    }
   ],
   "source": [
    "fname=input(\"Enter ur first name:\")\n",
    "if fname.isalpha():\n",
    "    print(\"U are following the instructions.\")\n",
    "else:\n",
    "    print(\"Stupid\")"
   ]
  },
  {
   "cell_type": "code",
   "execution_count": 22,
   "metadata": {},
   "outputs": [
    {
     "data": {
      "text/plain": [
       "True"
      ]
     },
     "execution_count": 22,
     "metadata": {},
     "output_type": "execute_result"
    }
   ],
   "source": [
    "\"12354\".isnumeric()"
   ]
  },
  {
   "cell_type": "code",
   "execution_count": 24,
   "metadata": {},
   "outputs": [
    {
     "data": {
      "text/plain": [
       "True"
      ]
     },
     "execution_count": 24,
     "metadata": {},
     "output_type": "execute_result"
    }
   ],
   "source": [
    "\"alpha123shr\".isalnum()"
   ]
  },
  {
   "cell_type": "code",
   "execution_count": 26,
   "metadata": {},
   "outputs": [
    {
     "data": {
      "text/plain": [
       "True"
      ]
     },
     "execution_count": 26,
     "metadata": {},
     "output_type": "execute_result"
    }
   ],
   "source": [
    "n=\"Ms. Vijaya\"\n",
    "n.startswith(\"Ms\")"
   ]
  },
  {
   "cell_type": "code",
   "execution_count": 4,
   "metadata": {},
   "outputs": [
    {
     "name": "stdout",
     "output_type": "stream",
     "text": [
      "Welcome Sir\n",
      "Welcome Dr.\n",
      "Welcome Ma'am\n",
      "Welcome Ma'am\n",
      "Welcome Dr.\n"
     ]
    }
   ],
   "source": [
    "guest=[\"Mr. Gupta\",\"Dr. Saxena\",\"Ms. Kapoor\",\"Ms. Malhotra\",\"Dr. Mishra\"]\n",
    "for i in guest:\n",
    "    if i.startswith(\"Mr\"):\n",
    "        print(\"Welcome Sir\")\n",
    "    elif i.startswith(\"Ms\"):\n",
    "        print(\"Welcome Ma'am\")\n",
    "    elif i.startswith(\"Dr\"):\n",
    "        print(\"Welcome Dr.\")\n",
    "    else:\n",
    "        print(\"Not allowed\")"
   ]
  },
  {
   "cell_type": "code",
   "execution_count": 8,
   "metadata": {},
   "outputs": [
    {
     "name": "stdout",
     "output_type": "stream",
     "text": [
      "['app_one.py', 'basics.ipynb', 'calc.py', 'circle.py', 'conditons.ipynb', 'func.ipynb', 'func2.ipynb', 'hello.py', 'loops.ipynb', 'nested.py', 'si.py', 'string.ipynb', 't1.py']\n"
     ]
    }
   ],
   "source": [
    "import os\n",
    "\n",
    "files=os.listdir()\n",
    "print(files)"
   ]
  },
  {
   "cell_type": "code",
   "execution_count": 9,
   "metadata": {},
   "outputs": [
    {
     "name": "stdout",
     "output_type": "stream",
     "text": [
      "app_one.py a Python Script\n",
      "basics.ipynb a Jupiter Notebook\n",
      "calc.py a Python Script\n",
      "circle.py a Python Script\n",
      "conditons.ipynb a Jupiter Notebook\n",
      "func.ipynb a Jupiter Notebook\n",
      "func2.ipynb a Jupiter Notebook\n",
      "hello.py a Python Script\n",
      "loops.ipynb a Jupiter Notebook\n",
      "nested.py a Python Script\n",
      "si.py a Python Script\n",
      "string.ipynb a Jupiter Notebook\n",
      "t1.py a Python Script\n"
     ]
    }
   ],
   "source": [
    "for i in files:\n",
    "    if i.endswith(\"ipynb\"):\n",
    "        print(f\"{i} a Jupiter Notebook\")\n",
    "    elif i.endswith(\"py\"):\n",
    "        print(f\"{i} a Python Script\")\n",
    "    elif i.endswith(\".txt\"):\n",
    "        print(f\"{i} a Text File\")\n",
    "    elif i.endswith(\"md\"):\n",
    "        print(f\"{i} a markdown file\")\n",
    "    else:\n",
    "        print(f\"{i} is Unknown\")"
   ]
  },
  {
   "cell_type": "code",
   "execution_count": 14,
   "metadata": {},
   "outputs": [
    {
     "data": {
      "text/plain": [
       "'Journey before Destination'"
      ]
     },
     "execution_count": 14,
     "metadata": {},
     "output_type": "execute_result"
    }
   ],
   "source": [
    "msg"
   ]
  },
  {
   "cell_type": "code",
   "execution_count": 15,
   "metadata": {},
   "outputs": [
    {
     "data": {
      "text/plain": [
       "8"
      ]
     },
     "execution_count": 15,
     "metadata": {},
     "output_type": "execute_result"
    }
   ],
   "source": [
    "msg.find(\"before\")"
   ]
  },
  {
   "cell_type": "code",
   "execution_count": 16,
   "metadata": {},
   "outputs": [],
   "source": [
    "data=\"Once upon a time , there is a person that lived . The End\""
   ]
  },
  {
   "cell_type": "code",
   "execution_count": 17,
   "metadata": {},
   "outputs": [
    {
     "data": {
      "text/plain": [
       "12"
      ]
     },
     "execution_count": 17,
     "metadata": {},
     "output_type": "execute_result"
    }
   ],
   "source": [
    "data.find(\"t\")"
   ]
  },
  {
   "cell_type": "code",
   "execution_count": 18,
   "metadata": {},
   "outputs": [
    {
     "data": {
      "text/plain": [
       "19"
      ]
     },
     "execution_count": 18,
     "metadata": {},
     "output_type": "execute_result"
    }
   ],
   "source": [
    "data.find(\"t\",13)"
   ]
  },
  {
   "cell_type": "code",
   "execution_count": 20,
   "metadata": {},
   "outputs": [
    {
     "data": {
      "text/plain": [
       "-1"
      ]
     },
     "execution_count": 20,
     "metadata": {},
     "output_type": "execute_result"
    }
   ],
   "source": [
    "data.find(\"z\")   #-1 means that \"z\" is not existed into the data"
   ]
  },
  {
   "cell_type": "code",
   "execution_count": 22,
   "metadata": {},
   "outputs": [
    {
     "data": {
      "text/plain": [
       "1"
      ]
     },
     "execution_count": 22,
     "metadata": {},
     "output_type": "execute_result"
    }
   ],
   "source": [
    "data.count(\"that\")"
   ]
  },
  {
   "cell_type": "code",
   "execution_count": 31,
   "metadata": {},
   "outputs": [],
   "source": [
    "data=\"As the day was coming to an end , our hero was ready to go to sleep . The End\""
   ]
  },
  {
   "cell_type": "code",
   "execution_count": 32,
   "metadata": {},
   "outputs": [
    {
     "name": "stdout",
     "output_type": "stream",
     "text": [
      "['As', 'the', 'day', 'was', 'coming', 'to', 'an', 'end', ',', 'our', 'hero', 'was', 'ready', 'to', 'go', 'to', 'sleep', '.', 'The', 'End']\n"
     ]
    }
   ],
   "source": [
    "words=data.split()\n",
    "print(words)"
   ]
  },
  {
   "cell_type": "code",
   "execution_count": 34,
   "metadata": {},
   "outputs": [
    {
     "name": "stdout",
     "output_type": "stream",
     "text": [
      "['As the d', 'y w', 's coming to ', 'n end , our hero w', 's re', 'dy to go to sleep . The End']\n"
     ]
    }
   ],
   "source": [
    "s=data.split(\"a\")\n",
    "print(s)"
   ]
  },
  {
   "cell_type": "code",
   "execution_count": 37,
   "metadata": {},
   "outputs": [
    {
     "data": {
      "text/plain": [
       "'abra🎁ka🎁dabra'"
      ]
     },
     "execution_count": 37,
     "metadata": {},
     "output_type": "execute_result"
    }
   ],
   "source": [
    "x=[\"abra\",\"ka\",\"dabra\"]\n",
    "\n",
    "\"🎁\".join(x)\n"
   ]
  },
  {
   "cell_type": "code",
   "execution_count": 38,
   "metadata": {},
   "outputs": [
    {
     "data": {
      "text/plain": [
       "'As the day was coming to an end , our hero was ready to go to sleep . The End'"
      ]
     },
     "execution_count": 38,
     "metadata": {},
     "output_type": "execute_result"
    }
   ],
   "source": [
    "data"
   ]
  },
  {
   "cell_type": "code",
   "execution_count": 40,
   "metadata": {},
   "outputs": [
    {
     "data": {
      "text/plain": [
       "'As the day was coming to an begin , our villain was ready to go to sleep . To be continue.....'"
      ]
     },
     "execution_count": 40,
     "metadata": {},
     "output_type": "execute_result"
    }
   ],
   "source": [
    "data.replace(\"hero\",\"villain\").replace(\"end\",\"begin\",1).replace(\"The End\",\"To be continue.....\")"
   ]
  },
  {
   "cell_type": "code",
   "execution_count": 13,
   "metadata": {},
   "outputs": [
    {
     "name": "stdout",
     "output_type": "stream",
     "text": [
      "sh\n",
      "2\n",
      "After cleaning\n",
      "sh\n",
      "2\n"
     ]
    }
   ],
   "source": [
    "name=input(\"Enter ur name:\")\n",
    "print(name)\n",
    "print(len(name))\n",
    "name=name.strip()\n",
    "print(\"After cleaning\")\n",
    "print(name)\n",
    "print(len(name))"
   ]
  },
  {
   "cell_type": "code",
   "execution_count": 8,
   "metadata": {},
   "outputs": [
    {
     "name": "stdout",
     "output_type": "stream",
     "text": [
      "wht  bsy dy?\n"
     ]
    }
   ],
   "source": [
    "# WAP to remove all the vowels from a string\n",
    "s=\"What a busy day?\"\n",
    "f=s.lower()\n",
    "d=[\"a\",\"e\",\"i\",\"o\",\"u\"]\n",
    "e=\"\"\n",
    "for i in f:\n",
    "    if i in d:\n",
    "        continue\n",
    "    else:\n",
    "        e+=i\n",
    "print(e)"
   ]
  },
  {
   "cell_type": "code",
   "execution_count": 3,
   "metadata": {},
   "outputs": [
    {
     "name": "stdout",
     "output_type": "stream",
     "text": [
      "Total no. of words in a string :9\n"
     ]
    }
   ],
   "source": [
    "# WAP to count all the word in a string\n",
    "l=\"Hello user , Welcome to the world of Python\"\n",
    "print(f\"Total no. of words in a string :{len(l.split())}\")"
   ]
  },
  {
   "cell_type": "code",
   "execution_count": 7,
   "metadata": {},
   "outputs": [
    {
     "name": "stdout",
     "output_type": "stream",
     "text": [
      " Total no. of Vowels in a string:12\n"
     ]
    }
   ],
   "source": [
    "# WAP to count all the vowels in a string\n",
    "l=\"Hello user , Welcome to the world of Python\"\n",
    "d=l.upper()\n",
    "cu=0\n",
    "for i in d:\n",
    "    if i==\"A\" or i==\"E\" or i==\"O\" or i==\"I\" or i==\"U\":\n",
    "        cu+=1\n",
    "    else:\n",
    "        pass\n",
    "print(f\" Total no. of Vowels in a string:{cu}\")"
   ]
  },
  {
   "cell_type": "code",
   "execution_count": 6,
   "metadata": {},
   "outputs": [
    {
     "name": "stdout",
     "output_type": "stream",
     "text": [
      "What a busy day\n"
     ]
    }
   ],
   "source": [
    "# WAP to remove all the punctuations from a string\n",
    "\n",
    "s=\"What a busy day?\"\n",
    "d=[\".\",\",\",\"!\",\"?\",\"-\"]\n",
    "e=\"\"\n",
    "for i in s:\n",
    "    if i in d:\n",
    "        continue\n",
    "    else:\n",
    "        e+=i\n",
    "print(e)"
   ]
  },
  {
   "cell_type": "code",
   "execution_count": null,
   "metadata": {},
   "outputs": [],
   "source": []
  }
 ],
 "metadata": {
  "kernelspec": {
   "display_name": "base",
   "language": "python",
   "name": "python3"
  },
  "language_info": {
   "codemirror_mode": {
    "name": "ipython",
    "version": 3
   },
   "file_extension": ".py",
   "mimetype": "text/x-python",
   "name": "python",
   "nbconvert_exporter": "python",
   "pygments_lexer": "ipython3",
   "version": "3.10.8"
  },
  "orig_nbformat": 4,
  "vscode": {
   "interpreter": {
    "hash": "79d71d161e7943240a345005223b4b57f09b9732a24e4917a9c0467b3aef16ea"
   }
  }
 },
 "nbformat": 4,
 "nbformat_minor": 2
}
