{
 "cells": [
  {
   "attachments": {},
   "cell_type": "markdown",
   "metadata": {},
   "source": [
    "- maths module\n",
    "- random module\n",
    "- os module\n",
    "- datetime module"
   ]
  },
  {
   "attachments": {},
   "cell_type": "markdown",
   "metadata": {},
   "source": [
    "- 'import library'\n",
    "- 'from library import func1 ,func2 func3'\n",
    "- 'import library as lib' #alias\n",
    "\n",
    "'''\n",
    "from library import{\n",
    "     fun1 , fun2 ,fun3\n",
    "}\n",
    "'''"
   ]
  },
  {
   "cell_type": "code",
   "execution_count": 1,
   "metadata": {},
   "outputs": [],
   "source": [
    "import math"
   ]
  },
  {
   "cell_type": "code",
   "execution_count": 5,
   "metadata": {},
   "outputs": [
    {
     "data": {
      "text/plain": [
       "93326215443944152681699238856266700490715968264381621468592963895217599993229915608941463976156518286253697920827223758251185210916864000000000000000000000000"
      ]
     },
     "execution_count": 5,
     "metadata": {},
     "output_type": "execute_result"
    }
   ],
   "source": [
    "math.factorial(100)"
   ]
  },
  {
   "cell_type": "code",
   "execution_count": 6,
   "metadata": {},
   "outputs": [
    {
     "name": "stdout",
     "output_type": "stream",
     "text": [
      "\u001b[1;31mSignature:\u001b[0m \u001b[0mmath\u001b[0m\u001b[1;33m.\u001b[0m\u001b[0mcos\u001b[0m\u001b[1;33m(\u001b[0m\u001b[0mx\u001b[0m\u001b[1;33m,\u001b[0m \u001b[1;33m/\u001b[0m\u001b[1;33m)\u001b[0m\u001b[1;33m\u001b[0m\u001b[1;33m\u001b[0m\u001b[0m\n",
      "\u001b[1;31mDocstring:\u001b[0m Return the cosine of x (measured in radians).\n",
      "\u001b[1;31mType:\u001b[0m      builtin_function_or_method"
     ]
    }
   ],
   "source": [
    "math.cos?"
   ]
  },
  {
   "cell_type": "code",
   "execution_count": 7,
   "metadata": {},
   "outputs": [],
   "source": [
    "from random import randint , random , choice"
   ]
  },
  {
   "cell_type": "code",
   "execution_count": 10,
   "metadata": {},
   "outputs": [
    {
     "name": "stdout",
     "output_type": "stream",
     "text": [
      "i got 6\n"
     ]
    }
   ],
   "source": [
    "r=randint(1,100)\n",
    "print(f\"i got {r}\")"
   ]
  },
  {
   "cell_type": "code",
   "execution_count": 12,
   "metadata": {},
   "outputs": [
    {
     "data": {
      "text/plain": [
       "0.8143184668416101"
      ]
     },
     "execution_count": 12,
     "metadata": {},
     "output_type": "execute_result"
    }
   ],
   "source": [
    "random()"
   ]
  },
  {
   "cell_type": "code",
   "execution_count": 13,
   "metadata": {},
   "outputs": [
    {
     "data": {
      "text/plain": [
       "6"
      ]
     },
     "execution_count": 13,
     "metadata": {},
     "output_type": "execute_result"
    }
   ],
   "source": [
    "choice([1,2,3,4,5,6])"
   ]
  },
  {
   "cell_type": "code",
   "execution_count": 14,
   "metadata": {},
   "outputs": [],
   "source": [
    "import os"
   ]
  },
  {
   "cell_type": "code",
   "execution_count": 15,
   "metadata": {},
   "outputs": [
    {
     "name": "stdout",
     "output_type": "stream",
     "text": [
      "c:\\Users\\hp\\OneDrive\\Documents\\digipodium\n"
     ]
    }
   ],
   "source": [
    "print(os.getcwd())"
   ]
  },
  {
   "cell_type": "code",
   "execution_count": 17,
   "metadata": {},
   "outputs": [],
   "source": [
    "base_dir=os.getcwd()"
   ]
  },
  {
   "cell_type": "code",
   "execution_count": 18,
   "metadata": {},
   "outputs": [
    {
     "name": "stdout",
     "output_type": "stream",
     "text": [
      "['.git', 'basics_py', 'dice_simulator.py', 'dict.ipynb', 'libraries.ipynb', 'tuple.ipynb']\n"
     ]
    }
   ],
   "source": [
    "contents=os.listdir()   # get the content of the current directory\n",
    "print(contents)"
   ]
  },
  {
   "cell_type": "code",
   "execution_count": 20,
   "metadata": {},
   "outputs": [
    {
     "name": "stdout",
     "output_type": "stream",
     "text": [
      "['AMD', 'Android', 'Common Files', 'desktop.ini', 'Git', 'Google', 'Internet Explorer', 'JetBrains', 'Microsoft Office', 'Microsoft Update Health Tools', 'Microsoft Visual Studio', 'ModifiableWindowsApps', 'Mozilla Firefox', 'MSBuild', 'PCHealthCheck', 'Portrait Displays', 'ReasonLabs', 'Reference Assemblies', 'Software Informer', 'Uninstall Information', 'UNP', 'VideoLAN', 'Windows Defender', 'Windows Defender Advanced Threat Protection', 'Windows Mail', 'Windows Media Player', 'Windows Multimedia Platform', 'Windows NT', 'Windows Photo Viewer', 'Windows Portable Devices', 'Windows Security', 'Windows Sidebar', 'WindowsApps', 'WindowsPowerShell']\n"
     ]
    }
   ],
   "source": [
    "programs = os.listdir('C:\\Program Files')\n",
    "print(programs)"
   ]
  },
  {
   "cell_type": "code",
   "execution_count": 25,
   "metadata": {},
   "outputs": [
    {
     "name": "stdout",
     "output_type": "stream",
     "text": [
      "['2022'] | []\n",
      "['Community'] | []\n",
      "['Common7', 'Licenses', 'Xml'] | []\n",
      "['IDE', 'Packages', 'ServiceHub', 'Tools'] | []\n",
      "['1033', 'Automation', 'CommonExtensions', 'en', 'Extensions', 'NewFileItems', 'PrivateAssemblies', 'PublicAssemblies', 'ReferenceAssemblies', 'Remote Debugger', 'ShellExtensions', 'SolutionTemplates', 'ToolboxCaches', 'VC', 'WebViewHost', 'x64'] | ['Automation.manifest', 'DbgComposition.dll', 'DDConfigCA.exe', 'devenv.isolation.ini', 'ELFBinComposition.dll', 'iisresolver.dll', 'master.clientenabledpkg', 'master.pkgdef', 'Microsoft.VisualStudio.Debugger.dll', 'Microsoft.VisualStudio.Debugger.Engine.dll', 'Microsoft.VisualStudio.Debugger.Parallel.dll', 'Microsoft.VisualStudio.Designer.Interfaces.dll', 'Microsoft.VisualStudio.Diagnostics.Measurement.Native.dll', 'Microsoft.VisualStudio.dll', 'Microsoft.VisualStudio.ExtensionEngine.dll', 'Microsoft.VisualStudio.ImageCatalog.dll', 'Microsoft.VisualStudio.ImageCatalog.Experimental.dll', 'Microsoft.VisualStudio.Imaging.dll', 'Microsoft.VisualStudio.Licensing.dll', 'Microsoft.VisualStudio.Package.LanguageService.15.0.dll', 'Microsoft.VisualStudio.Platform.WindowManagement.dll', 'Microsoft.VisualStudio.ProductKeyDialog.dll', 'Microsoft.VisualStudio.ProductKeyDialog.tlb', 'Microsoft.VisualStudio.RegDetour.dll', 'Microsoft.VisualStudio.Settings.15.0.dll', 'Microsoft.VisualStudio.Shell.UI.Internal.dll', 'Microsoft.VisualStudio.Shell.ViewManager.dll', 'Microsoft.VisualStudio.TemplateWizard.dll', 'Microsoft.VisualStudio.Utilities.dll', 'Microsoft.WizardFramework.dll', 'Microsoft.WizardFrameworkVS.dll', 'msenv.dll', 'msenvico.dll', 'msobj120.dll', 'mspdb140.dll', 'mspdbcore.dll', 'mspdbsrv.exe', 'msvcdis120.dll', 'msvcdis140.dll', 'offreg.dll', 'PEBinComposition.dll', 'pidgenx.dll', 'pkconfig.xrm-ms', 'PkgdefMgmt.dll', 'ProjectAggregator.dll', 'srcsrv.dll', 'srcsrv.ini', 'symsrv.dll', 'symsrv.yes', 'System.Threading.Tasks.Dataflow.dll', 'tbbmalloc.dll', 'vcruntime140.dll', 'vsdebugeng.dll', 'VsDebugWERHelper.exe', 'VSHiveStub.exe', 'VSIXInstaller.exe', 'VSIXInstaller.exe.config', 'VSLaunchBrowser.exe', 'vsn.exe', 'vsn.exe.config', 'VsRegistryDetour.dll', 'VSWebHandler.exe', 'VSWebLauncher.exe', 'VsWerHandler.dll']\n",
      "[] | ['BlendMui_Brand_708_10000.dll', 'cmddefui.dll', 'Microsoft.VisualStudioUI.dll', 'MsEnvMui_Brand_708_0.dll', 'msenvui.dll', 'VsWizUI.dll']\n",
      "[] | ['coloader80.dll', 'coloader80.dll.manifest', 'coloader80.tlb', 'contextp.dll', 'contextp.dll.manifest', 'cscodemodelextensibility.tlb', 'CSCodeModelExtensibility.tlb.manifest', 'csiface.tlb', 'csiface.tlb.manifest', 'DebuggerProxy.dll', 'DebuggerProxy.dll.manifest', 'dte100.olb', 'dte100.olb.manifest', 'dte80.olb', 'dte80.olb.manifest', 'dte80a.olb', 'dte80a.olb.manifest', 'dte90.olb', 'dte90.olb.manifest', 'dte90a.olb', 'dte90a.olb.manifest', 'dteproperties.tlb', 'dteproperties.tlb.manifest', 'dteproperties100.tlb', 'dteproperties100.tlb.manifest', 'dteproperties110.tlb', 'dteproperties110.tlb.manifest', 'dteproperties120.tlb', 'dteproperties120.tlb.manifest', 'dteproperties90.tlb', 'dteproperties90.tlb.manifest', 'dteproperties90a.tlb', 'dteproperties90a.tlb.manifest', 'Microsoft.VisualStudio.CompilerHostObjectsProxy.dll', 'Microsoft.VisualStudio.CompilerHostObjectsProxy.dll.manifest', 'Microsoft.VisualStudio.Interop.tlb', 'Microsoft.VisualStudio.Interop.tlb.manifest', 'Microsoft.VisualStudio.ProductKeyDialog.tlb', 'Microsoft.VisualStudio.ProductKeyDialog.tlb.manifest', 'msenv100p.dll', 'msenv100p.dll.manifest', 'msenv110p.dll', 'msenv110p.dll.manifest', 'msenv120p.dll', 'msenv120p.dll.manifest', 'msenv121p.dll', 'msenv121p.dll.manifest', 'msenv140p.dll', 'msenv140p.dll.manifest', 'msenv141p.dll', 'msenv141p.dll.manifest', 'msenv150p.dll', 'msenv150p.dll.manifest', 'msenv151p.dll', 'msenv151p.dll.manifest', 'msenv153p.dll', 'msenv153p.dll.manifest', 'msenv155p.dll', 'msenv155p.dll.manifest', 'msenv156p.dll', 'msenv156p.dll.manifest', 'msenv157p.dll', 'msenv157p.dll.manifest', 'msenv158p.dll', 'msenv158p.dll.manifest', 'msenv159p.dll', 'msenv159p.dll.manifest', 'msenv16p.dll', 'msenv16p.dll.manifest', 'msenv17p.dll', 'msenv17p.dll.manifest', 'msenv2p.dll', 'msenv2p.dll.manifest', 'msenv80p.dll', 'msenv80p.dll.manifest', 'msenv90p.dll', 'msenv90p.dll.manifest', 'msenvp.dll', 'msenvp.dll.manifest', 'publish.tlb', 'publish.tlb.manifest', 'textmgrp.dll', 'textmgrp.dll.manifest', 'VBCodeModelExtensibility.tlb', 'VBCodeModelExtensibility.tlb.manifest', 'vcsharpextensibilitylib.tlb', 'VCSharpExtensibilityLib.tlb.manifest', 'VSDebug.dll', 'VSDebug.dll.manifest', 'vsext.olb', 'vsext.olb.manifest', 'vshelp.tlb', 'vshelp.tlb.manifest', 'vshelp80.olb', 'vshelp80.tlb.manifest', 'vslangproj.olb', 'vslangproj.olb.manifest', 'vslangproj100.olb', 'vslangproj100.olb.manifest', 'vslangproj110.olb', 'vslangproj110.olb.manifest', 'vslangproj140.olb', 'vslangproj140.olb.manifest', 'vslangproj150.olb', 'vslangproj150.olb.manifest', 'vslangproj157.olb', 'vslangproj157.olb.manifest', 'vslangproj158.olb', 'vslangproj158.olb.manifest', 'vslangproj165.olb', 'vslangproj165.olb.manifest', 'vslangproj2.olb', 'vslangproj2.olb.manifest', 'vslangproj80.olb', 'vslangproj80.olb.manifest', 'vslangproj90.olb', 'vslangproj90.olb.manifest', 'VsLogP.dll', 'VsLogP.dll.manifest', 'vsmso.olb', 'vsmso.olb.manifest', 'vsprojhostproc.olb', 'vsprojhostproc.olb.manifest', 'VxExtensibilitylib.tlb', 'VxExtensibilityLib.tlb.manifest', 'VxExtensibilitylib2.tlb', 'VxExtensibilityLib2.tlb.manifest', 'VxExtensibilitylib3.tlb', 'VxExtensibilityLib3.tlb.manifest', 'VxExtensibilitylib4.tlb', 'VxExtensibilityLib4.tlb.manifest', 'webproperties.tlb', 'WebProperties.tlb.manifest', 'webproperties100.tlb', 'WebProperties100.tlb.manifest', 'webproperties110.tlb', 'WebProperties110.tlb.manifest', 'webproperties90.tlb', 'WebProperties90.tlb.manifest']\n",
      "['Microsoft', 'Platform'] | []\n",
      "['CodingConventions', 'Editor', 'ErrorList', 'ExtensionManager', 'External Tools', 'LanguageServer', 'ManagedLanguages', 'ProductUpdate', 'Search', 'Terminal', 'VC', 'VisualStudio', 'VSTelemetry'] | []\n",
      "[] | ['extension.vsixmanifest']\n",
      "['cs', 'de', 'es', 'fr', 'it', 'ja', 'ko', 'pl', 'pt-BR', 'ru', 'ServiceHub', 'tr', 'zh-Hans', 'zh-Hant'] | ['catalog.json', 'CertificateInformation.dat', 'extension.vsixmanifest', 'manifest.json', 'Microsoft.VisualStudio.CoreUtility.dll', 'Microsoft.VisualStudio.Diff.CommandLineSwitch.pkgdef', 'Microsoft.VisualStudio.Diff.dll', 'Microsoft.VisualStudio.Diff.pkgdef', 'Microsoft.VisualStudio.Editor.dll', 'Microsoft.VisualStudio.Editor.Implementation.dll', 'Microsoft.VisualStudio.Editor.Implementation.pkgdef', 'Microsoft.VisualStudio.Editor.pkgdef', 'Microsoft.VisualStudio.Language.dll', 'Microsoft.VisualStudio.Language.Intellisense.dll', 'Microsoft.VisualStudio.Language.StandardClassification.dll', 'Microsoft.VisualStudio.Platform.Editor.clientenabledpkg', 'Microsoft.VisualStudio.Platform.VSEditor.dll', 'Microsoft.VisualStudio.Text.Data.dll', 'Microsoft.VisualStudio.Text.Internal.dll', 'Microsoft.VisualStudio.Text.Logic.dll', 'Microsoft.VisualStudio.Text.UI.dll', 'Microsoft.VisualStudio.Text.UI.Wpf.dll']\n",
      "[] | ['Microsoft.VisualStudio.Diff.resources.dll', 'Microsoft.VisualStudio.Editor.Implementation.resources.dll', 'Microsoft.VisualStudio.Platform.VSEditor.resources.dll']\n",
      "[] | ['Microsoft.VisualStudio.Diff.resources.dll', 'Microsoft.VisualStudio.Editor.Implementation.resources.dll', 'Microsoft.VisualStudio.Platform.VSEditor.resources.dll']\n",
      "[] | ['Microsoft.VisualStudio.Diff.resources.dll', 'Microsoft.VisualStudio.Editor.Implementation.resources.dll', 'Microsoft.VisualStudio.Platform.VSEditor.resources.dll']\n",
      "[] | ['Microsoft.VisualStudio.Diff.resources.dll', 'Microsoft.VisualStudio.Editor.Implementation.resources.dll', 'Microsoft.VisualStudio.Platform.VSEditor.resources.dll']\n",
      "[] | ['Microsoft.VisualStudio.Diff.resources.dll', 'Microsoft.VisualStudio.Editor.Implementation.resources.dll', 'Microsoft.VisualStudio.Platform.VSEditor.resources.dll']\n",
      "[] | ['Microsoft.VisualStudio.Diff.resources.dll', 'Microsoft.VisualStudio.Editor.Implementation.resources.dll', 'Microsoft.VisualStudio.Platform.VSEditor.resources.dll']\n",
      "[] | ['Microsoft.VisualStudio.Diff.resources.dll', 'Microsoft.VisualStudio.Editor.Implementation.resources.dll', 'Microsoft.VisualStudio.Platform.VSEditor.resources.dll']\n",
      "[] | ['Microsoft.VisualStudio.Diff.resources.dll', 'Microsoft.VisualStudio.Editor.Implementation.resources.dll', 'Microsoft.VisualStudio.Platform.VSEditor.resources.dll']\n",
      "[] | ['Microsoft.VisualStudio.Diff.resources.dll', 'Microsoft.VisualStudio.Editor.Implementation.resources.dll', 'Microsoft.VisualStudio.Platform.VSEditor.resources.dll']\n",
      "[] | ['Microsoft.VisualStudio.Diff.resources.dll', 'Microsoft.VisualStudio.Editor.Implementation.resources.dll', 'Microsoft.VisualStudio.Platform.VSEditor.resources.dll']\n",
      "[] | ['CodeLens.servicehub.service.json', 'Microsoft.VisualStudio.CodeLens.Service.dll']\n",
      "[] | ['Microsoft.VisualStudio.Diff.resources.dll', 'Microsoft.VisualStudio.Editor.Implementation.resources.dll', 'Microsoft.VisualStudio.Platform.VSEditor.resources.dll']\n",
      "[] | ['Microsoft.VisualStudio.Diff.resources.dll', 'Microsoft.VisualStudio.Editor.Implementation.resources.dll', 'Microsoft.VisualStudio.Platform.VSEditor.resources.dll']\n",
      "[] | ['Microsoft.VisualStudio.Diff.resources.dll', 'Microsoft.VisualStudio.Editor.Implementation.resources.dll', 'Microsoft.VisualStudio.Platform.VSEditor.resources.dll']\n",
      "[] | ['extension.vsixmanifest', 'Microsoft.VisualStudio.ErrorListPkg.clientenabledpkg', 'Microsoft.VisualStudio.ErrorListPkg.dll', 'Microsoft.VisualStudio.ErrorListPkg.pkgdef']\n",
      "['ServiceModule'] | []\n",
      "[] | ['extension.vsixmanifest', 'extensionManager.serviceHub.service.json', 'Microsoft.VisualStudio.ExtensionManager.ServiceModule.dll']\n",
      "['ErrLook', 'GuidGen'] | []\n",
      "[] | ['ErrLook.pkgdef']\n",
      "[] | ['GuidGen.pkgdef']\n",
      "[] | ['catalog.json', 'CertificateInformation.dat', 'extension.vsixmanifest', 'manifest.json', 'Microsoft.VisualStudio.LanguageServer.Client.dll', 'Microsoft.VisualStudio.LanguageServer.Client.Implementation.dll', 'Microsoft.VisualStudio.LanguageServer.Client.Implementation.pkgdef', 'Microsoft.VisualStudio.LanguageServer.Client.pkgdef', 'Microsoft.VisualStudio.LanguageServer.Container.clientenabledpkg', 'Microsoft.VisualStudio.LanguageServer.Protocol.dll', 'Microsoft.VisualStudio.LanguageServer.Protocol.Extensions.dll', 'Microsoft.VisualStudio.LanguageServer.Protocol.Internal.dll']\n",
      "['VBCSharp'] | []\n",
      "['ExpressionEvaluators'] | []\n",
      "['cs', 'de', 'es', 'fr', 'it', 'ja', 'ko', 'pl', 'pt-BR', 'ru', 'tr', 'zh-Hans', 'zh-Hant'] | ['catalog.json', 'CertificateInformation.dat', 'EULA.rtf', 'ExpressionEvaluatorPackage.clientenabledpkg', 'ExpressionEvaluatorPackage.pkgdef', 'extension.vsixmanifest', 'manifest.json', 'Microsoft.CodeAnalysis.CSharp.ExpressionEvaluator.ExpressionCompiler.dll', 'Microsoft.CodeAnalysis.CSharp.ExpressionEvaluator.ExpressionCompiler.vsdconfig', 'Microsoft.CodeAnalysis.CSharp.ExpressionEvaluator.ResultProvider.dll', 'Microsoft.CodeAnalysis.CSharp.ExpressionEvaluator.ResultProvider.vsdconfig', 'Microsoft.CodeAnalysis.ExpressionEvaluator.ExpressionCompiler.dll', 'Microsoft.CodeAnalysis.ExpressionEvaluator.FunctionResolver.dll', 'Microsoft.CodeAnalysis.ExpressionEvaluator.FunctionResolver.vsdconfig', 'Microsoft.CodeAnalysis.ExpressionEvaluator.ResultProvider.dll', 'Microsoft.CodeAnalysis.VisualBasic.ExpressionEvaluator.ExpressionCompiler.dll', 'Microsoft.CodeAnalysis.VisualBasic.ExpressionEvaluator.ExpressionCompiler.vsdconfig', 'Microsoft.CodeAnalysis.VisualBasic.ExpressionEvaluator.ResultProvider.dll', 'Microsoft.CodeAnalysis.VisualBasic.ExpressionEvaluator.ResultProvider.vsdconfig', 'ThirdPartyNotices.rtf']\n",
      "[] | ['Microsoft.CodeAnalysis.ExpressionEvaluator.ResultProvider.resources.dll', 'Microsoft.CodeAnalysis.VisualBasic.ExpressionEvaluator.ExpressionCompiler.resources.dll']\n",
      "[] | ['Microsoft.CodeAnalysis.ExpressionEvaluator.ResultProvider.resources.dll', 'Microsoft.CodeAnalysis.VisualBasic.ExpressionEvaluator.ExpressionCompiler.resources.dll']\n",
      "[] | ['Microsoft.CodeAnalysis.ExpressionEvaluator.ResultProvider.resources.dll', 'Microsoft.CodeAnalysis.VisualBasic.ExpressionEvaluator.ExpressionCompiler.resources.dll']\n",
      "[] | ['Microsoft.CodeAnalysis.ExpressionEvaluator.ResultProvider.resources.dll', 'Microsoft.CodeAnalysis.VisualBasic.ExpressionEvaluator.ExpressionCompiler.resources.dll']\n",
      "[] | ['Microsoft.CodeAnalysis.ExpressionEvaluator.ResultProvider.resources.dll', 'Microsoft.CodeAnalysis.VisualBasic.ExpressionEvaluator.ExpressionCompiler.resources.dll']\n",
      "[] | ['Microsoft.CodeAnalysis.ExpressionEvaluator.ResultProvider.resources.dll', 'Microsoft.CodeAnalysis.VisualBasic.ExpressionEvaluator.ExpressionCompiler.resources.dll']\n",
      "[] | ['Microsoft.CodeAnalysis.ExpressionEvaluator.ResultProvider.resources.dll', 'Microsoft.CodeAnalysis.VisualBasic.ExpressionEvaluator.ExpressionCompiler.resources.dll']\n",
      "[] | ['Microsoft.CodeAnalysis.ExpressionEvaluator.ResultProvider.resources.dll', 'Microsoft.CodeAnalysis.VisualBasic.ExpressionEvaluator.ExpressionCompiler.resources.dll']\n",
      "[] | ['Microsoft.CodeAnalysis.ExpressionEvaluator.ResultProvider.resources.dll', 'Microsoft.CodeAnalysis.VisualBasic.ExpressionEvaluator.ExpressionCompiler.resources.dll']\n",
      "[] | ['Microsoft.CodeAnalysis.ExpressionEvaluator.ResultProvider.resources.dll', 'Microsoft.CodeAnalysis.VisualBasic.ExpressionEvaluator.ExpressionCompiler.resources.dll']\n",
      "[] | ['Microsoft.CodeAnalysis.ExpressionEvaluator.ResultProvider.resources.dll', 'Microsoft.CodeAnalysis.VisualBasic.ExpressionEvaluator.ExpressionCompiler.resources.dll']\n",
      "[] | ['Microsoft.CodeAnalysis.ExpressionEvaluator.ResultProvider.resources.dll', 'Microsoft.CodeAnalysis.VisualBasic.ExpressionEvaluator.ExpressionCompiler.resources.dll']\n",
      "[] | ['Microsoft.CodeAnalysis.ExpressionEvaluator.ResultProvider.resources.dll', 'Microsoft.CodeAnalysis.VisualBasic.ExpressionEvaluator.ExpressionCompiler.resources.dll']\n",
      "[] | ['extension.vsixmanifest']\n",
      "['en'] | ['extension.vsixmanifest', 'Microsoft.VisualStudio.Platform.SearchProviders.dll', 'Microsoft.VisualStudio.Platform.SearchProviders.Legacy.pkgdef', 'Microsoft.VisualStudio.Search.clientenabledpkg', 'Microsoft.VisualStudio.Search.dll', 'Microsoft.VisualStudio.Search.Implementation.dll', 'Microsoft.VisualStudio.Search.pkgdef', 'ranks.dat']\n",
      "[] | ['Microsoft.VisualStudio.Platform.SearchProviders.resources.dll', 'Microsoft.VisualStudio.Search.Implementation.resources.dll']\n",
      "['cs', 'de', 'es', 'fr', 'it', 'ja', 'ko', 'pl', 'pt-BR', 'ru', 'ServiceHub', 'tr', 'zh-Hans', 'zh-Hant'] | ['catalog.json', 'CertificateInformation.dat', 'extension.vsixmanifest', 'manifest.json', 'Microsoft.Terminal.Wpf.dll', 'Microsoft.VisualStudio.Platform.Terminal.clientenabledpkg', 'Microsoft.VisualStudio.Terminal.dll', 'Microsoft.VisualStudio.Terminal.Implementation.dll', 'Microsoft.VisualStudio.Terminal.Implementation.pkgdef', 'Microsoft.VisualStudio.Terminal.pkgdef', 'PublicTerminalCore.dll']\n",
      "[] | ['Microsoft.VisualStudio.Terminal.Implementation.resources.dll', 'Microsoft.VisualStudio.Terminal.resources.dll']\n",
      "[] | ['Microsoft.VisualStudio.Terminal.Implementation.resources.dll', 'Microsoft.VisualStudio.Terminal.resources.dll']\n",
      "[] | ['Microsoft.VisualStudio.Terminal.Implementation.resources.dll', 'Microsoft.VisualStudio.Terminal.resources.dll']\n",
      "[] | ['Microsoft.VisualStudio.Terminal.Implementation.resources.dll', 'Microsoft.VisualStudio.Terminal.resources.dll']\n",
      "[] | ['Microsoft.VisualStudio.Terminal.Implementation.resources.dll', 'Microsoft.VisualStudio.Terminal.resources.dll']\n",
      "[] | ['Microsoft.VisualStudio.Terminal.Implementation.resources.dll', 'Microsoft.VisualStudio.Terminal.resources.dll']\n",
      "[] | ['Microsoft.VisualStudio.Terminal.Implementation.resources.dll', 'Microsoft.VisualStudio.Terminal.resources.dll']\n",
      "[] | ['Microsoft.VisualStudio.Terminal.Implementation.resources.dll', 'Microsoft.VisualStudio.Terminal.resources.dll']\n",
      "[] | ['Microsoft.VisualStudio.Terminal.Implementation.resources.dll', 'Microsoft.VisualStudio.Terminal.resources.dll']\n",
      "[] | ['Microsoft.VisualStudio.Terminal.Implementation.resources.dll', 'Microsoft.VisualStudio.Terminal.resources.dll']\n",
      "['cs', 'de', 'es', 'fr', 'it', 'ja', 'ko', 'os64', 'pl', 'pt-BR', 'ru', 'tr', 'zh-Hans', 'zh-Hant'] | ['Microsoft.VisualStudio.Terminal.Pty.servicehub.service.json', 'Microsoft.VisualStudio.Terminal.ServiceHub.dll', 'Pty.Net.dll']\n",
      "[] | ['Microsoft.VisualStudio.Terminal.ServiceHub.resources.dll']\n",
      "[] | ['Microsoft.VisualStudio.Terminal.ServiceHub.resources.dll']\n",
      "[] | ['Microsoft.VisualStudio.Terminal.ServiceHub.resources.dll']\n",
      "[] | ['Microsoft.VisualStudio.Terminal.ServiceHub.resources.dll']\n",
      "[] | ['Microsoft.VisualStudio.Terminal.ServiceHub.resources.dll']\n",
      "[] | ['Microsoft.VisualStudio.Terminal.ServiceHub.resources.dll']\n",
      "[] | ['Microsoft.VisualStudio.Terminal.ServiceHub.resources.dll']\n",
      "[] | ['conpty.dll', 'OpenConsole.exe']\n",
      "[] | ['Microsoft.VisualStudio.Terminal.ServiceHub.resources.dll']\n",
      "[] | ['Microsoft.VisualStudio.Terminal.ServiceHub.resources.dll']\n",
      "[] | ['Microsoft.VisualStudio.Terminal.ServiceHub.resources.dll']\n",
      "[] | ['Microsoft.VisualStudio.Terminal.ServiceHub.resources.dll']\n",
      "[] | ['Microsoft.VisualStudio.Terminal.ServiceHub.resources.dll']\n",
      "[] | ['Microsoft.VisualStudio.Terminal.ServiceHub.resources.dll']\n",
      "[] | ['Microsoft.VisualStudio.Terminal.Implementation.resources.dll', 'Microsoft.VisualStudio.Terminal.resources.dll']\n",
      "[] | ['Microsoft.VisualStudio.Terminal.Implementation.resources.dll', 'Microsoft.VisualStudio.Terminal.resources.dll']\n",
      "[] | ['Microsoft.VisualStudio.Terminal.Implementation.resources.dll', 'Microsoft.VisualStudio.Terminal.resources.dll']\n",
      "['Debugger'] | ['MCppEE.pkgdef', 'ObjC.pkgdef', 'ResourceEditor.pkgdef', 'VC_Exp_DirControl_Registry.pkgdef']\n",
      "['1033', 'x64', 'x86'] | ['cppdebug.remote.vsdconfig', 'cppdebug.vsdconfig', 'extension.vsixmanifest', 'VCDebugger.pkgdef']\n",
      "[] | ['CppDebug.resources.dll']\n",
      "[] | ['CppDebug.dll', 'cppdebug.remote.dll', 'MSEnc.dll', 'mspdbst.dll', 'msvcp140_atomic_wait.dll', 'tbbmalloc.dll']\n",
      "[] | ['CppDebug.dll', 'cppdebug.remote.dll', 'MSEnc.dll', 'mspdbst.dll', 'msvcp140_atomic_wait.dll', 'tbbmalloc.dll']\n",
      "['Editors'] | []\n",
      "['cs', 'de', 'es', 'fr', 'it', 'ja', 'ko', 'pl', 'pt-BR', 'ru', 'tr', 'zh-Hans', 'zh-Hant'] | ['catalog.json', 'CertificateInformation.dat', 'extension.vsixmanifest', 'manifest.json', 'Microsoft.VisualStudio.AppDesigner.dll', 'Microsoft.VisualStudio.Editors.dll', 'Microsoft.VisualStudio.Editors.pkgdef', 'VisualStudioEditorsSetup.clientenabledpkg', 'VisualStudioEditorsSetup.pkgdef']\n",
      "[] | ['Microsoft.VisualStudio.AppDesigner.resources.dll', 'Microsoft.VisualStudio.Editors.resources.dll']\n",
      "[] | ['Microsoft.VisualStudio.AppDesigner.resources.dll', 'Microsoft.VisualStudio.Editors.resources.dll']\n",
      "[] | ['Microsoft.VisualStudio.AppDesigner.resources.dll', 'Microsoft.VisualStudio.Editors.resources.dll']\n",
      "[] | ['Microsoft.VisualStudio.AppDesigner.resources.dll', 'Microsoft.VisualStudio.Editors.resources.dll']\n",
      "[] | ['Microsoft.VisualStudio.AppDesigner.resources.dll', 'Microsoft.VisualStudio.Editors.resources.dll']\n",
      "[] | ['Microsoft.VisualStudio.AppDesigner.resources.dll', 'Microsoft.VisualStudio.Editors.resources.dll']\n",
      "[] | ['Microsoft.VisualStudio.AppDesigner.resources.dll', 'Microsoft.VisualStudio.Editors.resources.dll']\n",
      "[] | ['Microsoft.VisualStudio.AppDesigner.resources.dll', 'Microsoft.VisualStudio.Editors.resources.dll']\n",
      "[] | ['Microsoft.VisualStudio.AppDesigner.resources.dll', 'Microsoft.VisualStudio.Editors.resources.dll']\n",
      "[] | ['Microsoft.VisualStudio.AppDesigner.resources.dll', 'Microsoft.VisualStudio.Editors.resources.dll']\n",
      "[] | ['Microsoft.VisualStudio.AppDesigner.resources.dll', 'Microsoft.VisualStudio.Editors.resources.dll']\n",
      "[] | ['Microsoft.VisualStudio.AppDesigner.resources.dll', 'Microsoft.VisualStudio.Editors.resources.dll']\n",
      "[] | ['Microsoft.VisualStudio.AppDesigner.resources.dll', 'Microsoft.VisualStudio.Editors.resources.dll']\n",
      "[] | ['VSTelemetryPackage.clientenabledpkg', 'VSTelemetryPackage.pkgdef']\n",
      "['Debugger', 'ParallelDebugger', 'Shell', 'TreeNavigation', 'Visual Studio MPF'] | ['EditorColors.pkgdef', 'platform.clientenabledpkg', 'Theme.Blue.ExtraContrast.pkgdef', 'Theme.Blue.pkgdef', 'Theme.Dark.Experimental.pkgdef', 'Theme.Dark.pkgdef', 'Theme.HighContrast.pkgdef', 'Theme.Light.pkgdef', 'VSLogP.pkgdef']\n",
      "['1033', 'PerfDebuggerWebViews', 'WebViews'] | ['CoreCLRDebugEngine.pkgdef', 'crashdump.ico', 'debugger.clientenabledpkg', 'debugger.concord.clientenabledpkg', 'DotNetDebugger.pkgdef', 'ECBuild.pkgdef', 'ENCMgr.pkgdef', 'extension.vsixmanifest', 'Microsoft.VisualStudio.Debugger.TerminalLauncher.dll', 'Microsoft.VisualStudio.Debugger.TerminalLauncher.pkgdef', 'Microsoft.VisualStudio.Debugger.UI.Interfaces.dll', 'msvsmon_x64.pkgdef', 'msvsmon_x86.pkgdef', 'OpenFolderSchema.json', 'ReflectionBDM.pkgdef', 'SymbolLocator.pkgdef', 'VCSharp_EE_Registry_Keys_23307.pkgdef', 'VSDbg_Engine.pkgdef', 'vsdebug.imagemanifest', 'VSDebug.pkgdef', 'VsDebugConsole.exe', 'VsDebugConsole.pkgdef', 'VsDebugCoreUI.dll', 'VsDebugCoreUI.pkgdef', 'vsdebugeng.windockertransport.dll', 'vsdebugeng.windockertransport.pkgdef', 'VSDebugEng_Impl_Core.pkgdef', 'VSDebugEng_Impl_Engine.pkgdef', 'VsDebugPresentationPackage.dll', 'VsDebugPresentationPackage.imagemanifest', 'VsDebugPresentationPackage.pkgdef', 'VSDebug_NonClient.pkgdef']\n",
      "[] | ['vsdebugeng.windockertransport.resources.dll']\n",
      "['css', 'icons'] | ['PerfDebuggerSwimlane.js', 'PerfDebuggerSwimlaneIE.js']\n",
      "[] | ['IntelliTraceGraph.css']\n",
      "['timeline'] | ['AllEventsIcon.svg', 'BreakTrackIcon.svg', 'ExceptionEventIcon.svg', 'IntelliTraceTrackIcon.svg']\n",
      "['light'] | []\n",
      "['normal', 'selected'] | []\n",
      "[] | ['TimelineMarkGray.png', 'TimelineMarkPurple.png', 'TimelineMarkRed.png']\n",
      "[] | ['TimelineMarkGray.png', 'TimelineMarkPurple.png', 'TimelineMarkRed.png']\n",
      "['BptDiagnosticCommon', 'Controls', 'Icons', 'Knockout', 'WebView2'] | ['camera.png', 'camera.svg', 'delete.png', 'DiagnosticAnalysisResource.en.resx', 'DiagnosticAnalysisWindow.css', 'DiagnosticAnalysisWindow.html', 'DiagnosticAnalysisWindow.js', 'DiagnosticAnalysisWindow.manifest.json', 'DiagnosticAnalysisWindowIE.css', 'DiagnosticAnalysisWindowIE.html', 'DiagnosticAnalysisWindowIE.js', 'DiagnosticAnalysisWindowIE.manifest.json', 'DiagnosticsHub.js', 'gcGlyph.png', 'grid.css', 'inspect.png', 'ManagedHeapViewer.js', 'ManagedMemoryHelpers.js', 'ManagedMemorySnapshotDetailView.css', 'ManagedMemorySnapshotDetailView.html', 'ManagedMemorySnapshotDetailView.manifest.json', 'ManagedMemorySummaryView.css', 'ManagedMemorySummaryView.html', 'ManagedMemorySummaryView.manifest.json', 'ManagedMemorySwimlaneView.html', 'ManagedSummaryViewer.js', 'memory.svg', 'MemoryAnalyzerSwimlaneFactory.js', 'MemoryAnalyzerSwimlaneFactory.manifest.json', 'mma_icons.png', 'plugin.js', 'ScriptResources.en.resx', 'snapshotGlyph.png', 'snapshotpoint.svg', 'spacer.png', 'watch.png']\n",
      "['Icons'] | ['JSTreeDynamicGridControl.js', 'MicrosoftAjax-4.0.0.0.debug.js']\n",
      "[] | ['add_row.png', 'columnmove.png', 'common-icons.png', 'copy.png', 'hotItem.png', 'hotPath.png', 'itemCollapsedIcon.png', 'itemExpandedIcon.png', 'misc-icons.png', 'tree-icons.png']\n",
      "['css', 'WebView2'] | ['Controls.js', 'DiagnosticsHub.js', 'Shared.js']\n",
      "[] | ['DataGrid.css', 'TreeGrid.css']\n",
      "[] | ['dataGrid.css', 'diagnosticsHub.js', 'treeGrid.css']\n",
      "[] | ['itemCollapsed.png', 'itemExpanded.png']\n",
      "[] | ['knockout-3.4.0.js']\n",
      "[] | ['diagnosticsHub.js']\n",
      "[] | ['extension.vsixmanifest', 'Microsoft.VisualStudio.Debugger.Parallel.Extension.dll', 'Microsoft.VisualStudio.Debugger.Parallel.Extension.pkgdef', 'Microsoft.VisualStudio.Debugger.Parallel.pkgdef', 'paralleldebugger.clientenabledpkg', 'PfxTaskProvider.pkgdef', 'PplTaskProvider.pkgdef']\n",
      "[] | ['CmdDefUI.Pkgdef', 'CompatibilityList.xml', 'extension.vsixmanifest', 'IdentityNexusIntegration.clientenabledpkg', 'LiveShareMonikers.imagemanifest', 'Microsoft.VisualStudio.CommonIDE.imagemanifest', 'Microsoft.VisualStudio.CommonIDE.pkgdef', 'Microsoft.VisualStudio.ComponentModelHost.Implementation.clientenabledpkg', 'Microsoft.VisualStudio.ComponentModelHost.Implementation.pkgdef', 'Microsoft.VisualStudio.Dialogs.pkgdef', 'Microsoft.VisualStudio.ExtensionManager.Implementation.clientenabledpkg', 'Microsoft.VisualStudio.ExtensionManager.Implementation.pkgdef', 'Microsoft.VisualStudio.FeatureFlags.clientenabledpkg', 'Microsoft.VisualStudio.FeatureFlags.pkgdef', 'Microsoft.VisualStudio.IDE.ToolboxControlsInstaller.pkgdef', 'Microsoft.VisualStudio.ImageCatalog.Experimental.imagemanifest', 'Microsoft.VisualStudio.ImageCatalog.imagemanifest', 'Microsoft.VisualStudio.Pkgdef', 'Microsoft.VisualStudio.Platform.WindowManagement.pkgdef', 'Microsoft.VisualStudio.Shell.UI.Internal.pkgdef', 'Microsoft.VisualStudio.Shell.UI.Internal.StatusBar.imagemanifest', 'Microsoft.VisualStudio.TaskStatusCenter.imagemanifest', 'Microsoft.VisualStudio.TemplateWizard.pkgdef', 'Microsoft.VisualStudio.Toolbox.pkgdef', 'Msenv.Core.Pkgdef', 'msenv.imagemanifest', 'platform.shell.clientenabledpkg', 'ProjectAggregator.clientenabledpkg', 'ProjectAggregator.pkgdef', 'VsAppDomainManager.dll', 'VsAppDomainManager.pkgdef', 'VSIXInstaller.pkgdef']\n",
      "['en'] | ['extension.vsixmanifest', 'Microsoft.VisualStudio.Shell.TreeNavigation.HierarchyProvider.clientenabledpkg', 'Microsoft.VisualStudio.Shell.TreeNavigation.HierarchyProvider.dll', 'Microsoft.VisualStudio.Shell.TreeNavigation.HierarchyProvider.pkgdef']\n",
      "[] | ['Microsoft.VisualStudio.Shell.TreeNavigation.HierarchyProvider.resources.dll']\n",
      "['17.0'] | []\n",
      "[] | ['extension.vsixmanifest']\n",
      "[] | ['Microsoft.VisualStudio.Debugger.Parallel.resources.dll', 'Microsoft.VisualStudio.ImageCatalog.resources.dll', 'Microsoft.VisualStudio.Imaging.resources.dll', 'Microsoft.VisualStudio.Platform.WindowManagement.resources.dll', 'Microsoft.VisualStudio.ProductKeyDialog.resources.dll', 'Microsoft.VisualStudio.Shell.UI.Internal.resources.dll', 'Microsoft.VisualStudio.Utilities.resources.dll']\n",
      "['Microsoft'] | []\n",
      "['DebugAdapterHost', 'DebuggerServices', 'Visual Studio MPF'] | []\n",
      "['cs', 'de', 'es', 'fr', 'it', 'ja', 'ko', 'pl', 'pt-BR', 'ru', 'tr', 'zh-Hans', 'zh-Hant'] | ['catalog.json', 'CertificateInformation.dat', 'EngineRegistration.pkgdef', 'extension.vsixmanifest', 'manifest.json', 'Microsoft.VisualStudio.Debugger.DebugAdapterHost.Interfaces.dll', 'Microsoft.VisualStudio.Debugger.VSCodeDebuggerHost.dll', 'Microsoft.VisualStudio.Debugger.VSCodeDebuggerHost.pkgdef', 'Microsoft.VisualStudio.Debugger.VSCodeDebuggerHost.VSIX.clientenabledpkg', 'Microsoft.VisualStudio.Shared.VSCodeDebugProtocol.dll', 'ReferenceAssemblyRegistration.pkgdef']\n",
      "[] | ['Microsoft.VisualStudio.Debugger.VSCodeDebuggerHost.resources.dll']\n",
      "[] | ['Microsoft.VisualStudio.Debugger.VSCodeDebuggerHost.resources.dll']\n",
      "[] | ['Microsoft.VisualStudio.Debugger.VSCodeDebuggerHost.resources.dll']\n",
      "[] | ['Microsoft.VisualStudio.Debugger.VSCodeDebuggerHost.resources.dll']\n",
      "[] | ['Microsoft.VisualStudio.Debugger.VSCodeDebuggerHost.resources.dll']\n",
      "[] | ['Microsoft.VisualStudio.Debugger.VSCodeDebuggerHost.resources.dll']\n",
      "[] | ['Microsoft.VisualStudio.Debugger.VSCodeDebuggerHost.resources.dll']\n",
      "[] | ['Microsoft.VisualStudio.Debugger.VSCodeDebuggerHost.resources.dll']\n",
      "[] | ['Microsoft.VisualStudio.Debugger.VSCodeDebuggerHost.resources.dll']\n",
      "[] | ['Microsoft.VisualStudio.Debugger.VSCodeDebuggerHost.resources.dll']\n",
      "[] | ['Microsoft.VisualStudio.Debugger.VSCodeDebuggerHost.resources.dll']\n",
      "[] | ['Microsoft.VisualStudio.Debugger.VSCodeDebuggerHost.resources.dll']\n",
      "[] | ['Microsoft.VisualStudio.Debugger.VSCodeDebuggerHost.resources.dll']\n",
      "[] | ['catalog.json', 'CertificateInformation.dat', 'extension.vsixmanifest', 'manifest.json', 'Microsoft.VisualStudio.Debugger.BrokeredServices.clientenabledpkg', 'Microsoft.VisualStudio.Debugger.BrokeredServices.dll', 'Microsoft.VisualStudio.Debugger.BrokeredServices.pkgdef', 'Microsoft.VisualStudio.Debugger.Contracts.dll', 'Microsoft.VisualStudio.Debugger.UI.Interfaces.dll']\n",
      "['10.0', '11.0', '12.0', '14.0'] | []\n",
      "[] | ['extension.vsixmanifest']\n",
      "[] | ['extension.vsixmanifest']\n",
      "[] | ['extension.vsixmanifest']\n",
      "[] | ['extension.vsixmanifest']\n",
      "[] | ['HtmlPage.html', 'jscript.js', 'NewFileItems.vsdir', 'stylesht.css', 'TextFile.txt', 'xmlpage.xml', 'xmlschem.xsd', 'xsltfile.xslt']\n",
      "['amd64', 'en', 'Newtonsoft.Json.12.0.0.2', 'Newtonsoft.Json.13.0.1.0', 'Newtonsoft.Json.9.0.0.1', 'Runtime', 'x86'] | ['CheckHyperVHost.exe', 'ClrCustomVisualizerVSHost.dll', 'Dia2Lib.dll', 'Microsoft.ApplicationInsights.dll', 'Microsoft.ApplicationInsights.PersistenceChannel.dll', 'Microsoft.ApplicationInsights.UniversalTelemetryChannel.dll', 'Microsoft.Azure.ActiveDirectory.GraphClient.FirstParty.dll', 'Microsoft.Diagnostics.EtwHeapDump.dll', 'Microsoft.Diagnostics.FastSerialization.dll', 'Microsoft.Diagnostics.HeapDump.dll', 'Microsoft.Diagnostics.MemoryGraph.dll', 'Microsoft.Diagnostics.Tracing.EventSource.dll', 'Microsoft.Diagnostics.Tracing.TraceEvent.dll', 'Microsoft.Diagnostics.Utilities.dll', 'Microsoft.DiaSymReader.dll', 'Microsoft.DiaSymReader.PortablePdb.dll', 'Microsoft.IdentityModel.Clients.ActiveDirectory.dll', 'Microsoft.IdentityModel.Clients.ActiveDirectory.Platform.dll', 'Microsoft.Internal.VisualStudio.Shell.Framework.dll', 'Microsoft.Internal.VisualStudio.UserNotifications.dll', 'Microsoft.Threading.Tasks.dll', 'Microsoft.Threading.Tasks.Extensions.dll', 'Microsoft.VisualStudio.CommonIDE.dll', 'Microsoft.VisualStudio.ComponentModelHost.Implementation.dll', 'Microsoft.VisualStudio.Composition.dll', 'Microsoft.VisualStudio.Debugger.Contracts.dll', 'Microsoft.VisualStudio.Debugger.Interop.Internal.dll', 'Microsoft.VisualStudio.Debugger.MemoryToolAnalyzer.dll', 'Microsoft.VisualStudio.Debugger.MemoryToolAnalyzer.manifest', 'Microsoft.VisualStudio.Debugger.Metadata.dll', 'Microsoft.VisualStudio.Debugger.SymbolLocator.Interop.dll', 'Microsoft.VisualStudio.Diagnostics.Assert.dll', 'Microsoft.VisualStudio.Diagnostics.Common.dll', 'Microsoft.VisualStudio.Diagnostics.HubExtensions.dll', 'Microsoft.VisualStudio.Diagnostics.Measurement.dll', 'Microsoft.VisualStudio.Dialogs.dll', 'Microsoft.VisualStudio.DpiAwareness.dll', 'Microsoft.VisualStudio.ExtensibilityHosting.dll', 'Microsoft.VisualStudio.ExtensionManager.dll', 'Microsoft.VisualStudio.ExtensionManager.Implementation.dll', 'Microsoft.VisualStudio.ExtensionsExplorer.dll', 'Microsoft.VisualStudio.ExtensionsExplorer.UI.dll', 'Microsoft.VisualStudio.FileDiscovery.dll', 'Microsoft.VisualStudio.IDE.ToolboxControlsInstaller.dll', 'Microsoft.VisualStudio.Modeling.Sdk.Diagrams.GraphObject.dll', 'Microsoft.VisualStudio.Platform.AppDomainManager.dll', 'Microsoft.VisualStudio.RemoteControl.dll', 'Microsoft.VisualStudio.ScriptedHost.dll', 'Microsoft.VisualStudio.Setup.Common.dll', 'Microsoft.VisualStudio.Setup.Configuration.Interop.dll', 'Microsoft.VisualStudio.Setup.dll', 'Microsoft.VisualStudio.Setup.Download.dll', 'Microsoft.VisualStudio.Setup.VSApi.dll', 'Microsoft.VisualStudio.Shell.Internal.WinMD.dll', 'Microsoft.VisualStudio.Telemetry.dll', 'Microsoft.VisualStudio.Telemetry.Package.dll', 'Microsoft.VisualStudio.TemplateProviders.Implementation.dll', 'Microsoft.VisualStudio.Threading.dll', 'Microsoft.VisualStudio.Toolbox.dll', 'Microsoft.VisualStudio.Utilities.Internal.dll', 'Microsoft.VisualStudio.Validation.dll', 'Microsoft.VisualStudio.vil.dll', 'Microsoft.VisualStudio.vil.host.dll', 'Microsoft.VisualStudio.VirtualTreeGrid.dll', 'Microsoft.VisualStudio.VisualC.Logging.dll', 'Microsoft.VisualStudio.VisualC.Utilities.dll', 'Microsoft.VisualStudio.WebViewHost.RpcContracts.dll', 'Nerdbank.NetStandardBridge.dll', 'Newtonsoft.Json.dll', 'NuGet.Packaging.Extraction.dll', 'OSExtensions.dll', 'plugin.vs.js', 'plugin.vs.v2.js', 'ScriptedHost.Blank.html', 'ScriptedHost.Blank.v2.html', 'ScriptedSandbox.t.html', 'ScriptedSandbox32.exe', 'ScriptedSandbox64.exe', 'System.Buffers.dll', 'System.Collections.Immutable.dll', 'System.Composition.AttributedModel.dll', 'System.Composition.Convention.dll', 'System.Composition.Hosting.dll', 'System.Composition.Runtime.dll', 'System.Composition.TypedParts.dll', 'System.Design.dll', 'System.Memory.dll', 'System.Numerics.Vectors.dll', 'System.Reflection.Metadata.dll', 'System.Runtime.CompilerServices.Unsafe.dll', 'System.Text.Encoding.CodePages.dll', 'System.Threading.Tasks.Extensions.dll', 'TraceReloggerLib.dll', 'vcruntime140.dll', 'vsdebugeng.manimpl.45.dll', 'vsdebugeng.manimpl.dll', 'vsdebugeng.manimpl.netstandard.dll']\n",
      "[] | ['msdia140.dll']\n",
      "[] | ['Microsoft.Internal.VisualStudio.UserNotifications.resources.dll', 'Microsoft.VisualStudio.Toolbox.resources.dll']\n",
      "[] | ['Newtonsoft.Json.dll']\n",
      "[] | ['Newtonsoft.Json.dll']\n",
      "[] | ['Newtonsoft.Json.dll']\n",
      "[] | ['Microsoft.VisualStudio.Debugger.Runtime.Desktop.dll', 'Microsoft.VisualStudio.Debugger.Runtime.Impl.dll', 'Microsoft.VisualStudio.Debugger.Runtime.NetCoreApp.dll']\n",
      "[] | ['msdia140.dll']\n",
      "['Microsoft.VisualStudio.Threading.17.x'] | ['Microsoft.Bcl.AsyncInterfaces.dll', 'Microsoft.IO.Redist.dll', 'Microsoft.VisualStudio.CodingConventions.dll', 'Microsoft.VisualStudio.ComponentModelHost.dll', 'Microsoft.VisualStudio.Debugger.Interop.10.0.dll', 'Microsoft.VisualStudio.Debugger.Interop.11.0.dll', 'Microsoft.VisualStudio.Debugger.Interop.12.0.dll', 'Microsoft.VisualStudio.Debugger.Interop.14.0.dll', 'Microsoft.VisualStudio.Debugger.Interop.15.0.dll', 'Microsoft.VisualStudio.Debugger.Interop.16.0.dll', 'Microsoft.VisualStudio.Debugger.Interop.17.0.dll', 'Microsoft.VisualStudio.Debugger.InteropA.dll', 'Microsoft.VisualStudio.Debugger.Parallel.MultiValueVisualizers.dll', 'Microsoft.VisualStudio.DebuggerVisualizers.dll', 'Microsoft.VisualStudio.NetFrameworkSerializationHelper.dll', 'Microsoft.VisualStudio.Shell.15.0.dll', 'Microsoft.VisualStudio.Shell.Framework.dll', 'Microsoft.VisualStudio.Shell.Immutable.10.0.dll', 'Microsoft.VisualStudio.Shell.Immutable.11.0.dll', 'Microsoft.VisualStudio.Shell.Immutable.12.0.dll', 'Microsoft.VisualStudio.Shell.Immutable.14.0.dll', 'Microsoft.Win32.Registry.dll', 'System.Buffers.dll', 'System.IO.Pipelines.dll', 'System.Memory.dll', 'System.Reflection.TypeExtensions.dll', 'System.Security.AccessControl.dll', 'System.Security.Principal.Windows.dll', 'System.Text.Encodings.Web.dll', 'System.Text.Json.dll', 'System.Threading.AccessControl.dll']\n",
      "[] | ['Microsoft.VisualStudio.Threading.dll']\n",
      "['v2.0'] | []\n",
      "['en'] | ['Microsoft.VisualStudio.DebuggerVisualizers.dll']\n",
      "[] | ['Microsoft.VisualStudio.DebuggerVisualizers.xml']\n",
      "['Appx', 'x64', 'x86'] | []\n",
      "['1033'] | ['AppxDebug.dll', 'AppxDebugSysTray.exe', 'AppxDebugSysTray.exe.config']\n",
      "[] | ['AppxDebug.dll-Help.xml']\n",
      "['1033', 'Runtime'] | ['api-ms-win-core-console-l1-1-0.dll', 'api-ms-win-core-datetime-l1-1-0.dll', 'api-ms-win-core-debug-l1-1-0.dll', 'api-ms-win-core-errorhandling-l1-1-0.dll', 'api-ms-win-core-file-l1-1-0.dll', 'api-ms-win-core-file-l1-2-0.dll', 'api-ms-win-core-file-l2-1-0.dll', 'api-ms-win-core-handle-l1-1-0.dll', 'api-ms-win-core-heap-l1-1-0.dll', 'api-ms-win-core-interlocked-l1-1-0.dll', 'api-ms-win-core-libraryloader-l1-1-0.dll', 'api-ms-win-core-localization-l1-2-0.dll', 'api-ms-win-core-memory-l1-1-0.dll', 'api-ms-win-core-namedpipe-l1-1-0.dll', 'api-ms-win-core-processenvironment-l1-1-0.dll', 'api-ms-win-core-processthreads-l1-1-0.dll', 'api-ms-win-core-processthreads-l1-1-1.dll', 'api-ms-win-core-profile-l1-1-0.dll', 'api-ms-win-core-rtlsupport-l1-1-0.dll', 'api-ms-win-core-string-l1-1-0.dll', 'api-ms-win-core-synch-l1-1-0.dll', 'api-ms-win-core-synch-l1-2-0.dll', 'api-ms-win-core-sysinfo-l1-1-0.dll', 'api-ms-win-core-timezone-l1-1-0.dll', 'api-ms-win-core-util-l1-1-0.dll', 'api-ms-win-crt-conio-l1-1-0.dll', 'api-ms-win-crt-convert-l1-1-0.dll', 'api-ms-win-crt-environment-l1-1-0.dll', 'api-ms-win-crt-filesystem-l1-1-0.dll', 'api-ms-win-crt-heap-l1-1-0.dll', 'api-ms-win-crt-locale-l1-1-0.dll', 'api-ms-win-crt-math-l1-1-0.dll', 'api-ms-win-crt-multibyte-l1-1-0.dll', 'api-ms-win-crt-private-l1-1-0.dll', 'api-ms-win-crt-process-l1-1-0.dll', 'api-ms-win-crt-runtime-l1-1-0.dll', 'api-ms-win-crt-stdio-l1-1-0.dll', 'api-ms-win-crt-string-l1-1-0.dll', 'api-ms-win-crt-time-l1-1-0.dll', 'api-ms-win-crt-utility-l1-1-0.dll', 'CppDebug.remote.dll', 'DbgComposition.dll', 'dbgshim.dll', 'DebuggerProxy.dll', 'DebuggerProxy.dll.manifest', 'DiagnosticsHub.ClientCommon.dll', 'ELFBinComposition.dll', 'iisresolver.dll', 'MCppEE.dll', 'Microsoft.CodeAnalysis.CSharp.ExpressionEvaluator.ResultProvider.dll', 'Microsoft.CodeAnalysis.ExpressionEvaluator.FunctionResolver.dll', 'Microsoft.CodeAnalysis.ExpressionEvaluator.ResultProvider.dll', 'Microsoft.CodeAnalysis.VisualBasic.ExpressionEvaluator.ResultProvider.dll', 'Microsoft.Diagnostics.FastSerialization.dll', 'Microsoft.Diagnostics.MemoryGraph.dll', 'Microsoft.Diagnostics.Utilities.dll', 'Microsoft.DiaSymReader.dll', 'Microsoft.DiaSymReader.PortablePdb.dll', 'Microsoft.VisualStudio.Debugger.Engine.dll', 'Microsoft.VisualStudio.Debugger.Interop.10.0.dll', 'Microsoft.VisualStudio.Debugger.Interop.11.0.dll', 'Microsoft.VisualStudio.Debugger.Interop.12.0.dll', 'Microsoft.VisualStudio.Debugger.Interop.14.0.dll', 'Microsoft.VisualStudio.Debugger.Interop.15.0.dll', 'Microsoft.VisualStudio.Debugger.Interop.Internal.dll', 'Microsoft.VisualStudio.Debugger.InteropA.dll', 'Microsoft.VisualStudio.Debugger.Metadata.dll', 'Microsoft.VisualStudio.Interop.dll', 'Microsoft.VisualStudio.OLE.Interop.dll', 'Microsoft.VisualStudio.vil.dll', 'Microsoft.VisualStudio.vil.host.dll', 'Microsoft.XslDebugger.dll', 'msdia140.dll', 'msvcdis140.dll', 'msvcp140.dll', 'msvcp140_atomic_wait.dll', 'msvsmon.exe', 'msvsmon.exe.config', 'PEBinComposition.dll', 'PfxTaskProvider.dll', 'symbollocator.dll', 'symsrv.dll', 'symsrv.yes', 'System.Collections.Immutable.dll', 'System.Reflection.Metadata.dll', 'ucrtbase.dll', 'vcruntime140.dll', 'vcruntime140_1.dll', 'vsdebugeng.dll', 'vsdebugeng.impl.dll', 'vsdebugeng.manimpl.45.dll', 'vsdebugeng.manimpl.dll', 'VsDebugLaunchNotify.exe', 'VsDebugWERHelper.exe', 'xsldebugger.msvsmon-comclass-def.json']\n",
      "[] | ['msdbgui.dll', 'symbollocator.resources.dll', 'vsdebugeng.impl.resources.dll']\n",
      "[] | ['Microsoft.VisualStudio.Debugger.Runtime.Desktop.dll', 'Microsoft.VisualStudio.Debugger.Runtime.Impl.dll', 'Microsoft.VisualStudio.Debugger.Runtime.NetCoreApp.dll']\n",
      "['1033', 'Runtime'] | ['api-ms-win-core-console-l1-1-0.dll', 'api-ms-win-core-datetime-l1-1-0.dll', 'api-ms-win-core-debug-l1-1-0.dll', 'api-ms-win-core-errorhandling-l1-1-0.dll', 'api-ms-win-core-file-l1-1-0.dll', 'api-ms-win-core-file-l1-2-0.dll', 'api-ms-win-core-file-l2-1-0.dll', 'api-ms-win-core-handle-l1-1-0.dll', 'api-ms-win-core-heap-l1-1-0.dll', 'api-ms-win-core-interlocked-l1-1-0.dll', 'api-ms-win-core-libraryloader-l1-1-0.dll', 'api-ms-win-core-localization-l1-2-0.dll', 'api-ms-win-core-memory-l1-1-0.dll', 'api-ms-win-core-namedpipe-l1-1-0.dll', 'api-ms-win-core-processenvironment-l1-1-0.dll', 'api-ms-win-core-processthreads-l1-1-0.dll', 'api-ms-win-core-processthreads-l1-1-1.dll', 'api-ms-win-core-profile-l1-1-0.dll', 'api-ms-win-core-rtlsupport-l1-1-0.dll', 'api-ms-win-core-string-l1-1-0.dll', 'api-ms-win-core-synch-l1-1-0.dll', 'api-ms-win-core-synch-l1-2-0.dll', 'api-ms-win-core-sysinfo-l1-1-0.dll', 'api-ms-win-core-timezone-l1-1-0.dll', 'api-ms-win-core-util-l1-1-0.dll', 'api-ms-win-crt-conio-l1-1-0.dll', 'api-ms-win-crt-convert-l1-1-0.dll', 'api-ms-win-crt-environment-l1-1-0.dll', 'api-ms-win-crt-filesystem-l1-1-0.dll', 'api-ms-win-crt-heap-l1-1-0.dll', 'api-ms-win-crt-locale-l1-1-0.dll', 'api-ms-win-crt-math-l1-1-0.dll', 'api-ms-win-crt-multibyte-l1-1-0.dll', 'api-ms-win-crt-private-l1-1-0.dll', 'api-ms-win-crt-process-l1-1-0.dll', 'api-ms-win-crt-runtime-l1-1-0.dll', 'api-ms-win-crt-stdio-l1-1-0.dll', 'api-ms-win-crt-string-l1-1-0.dll', 'api-ms-win-crt-time-l1-1-0.dll', 'api-ms-win-crt-utility-l1-1-0.dll', 'CppDebug.remote.dll', 'DbgComposition.dll', 'dbgshim.dll', 'DebuggerProxy.dll', 'DebuggerProxy.dll.manifest', 'DiagnosticsHub.ClientCommon.dll', 'ELFBinComposition.dll', 'iisresolver.dll', 'MCppEE.dll', 'Microsoft.CodeAnalysis.CSharp.ExpressionEvaluator.ResultProvider.dll', 'Microsoft.CodeAnalysis.ExpressionEvaluator.FunctionResolver.dll', 'Microsoft.CodeAnalysis.ExpressionEvaluator.ResultProvider.dll', 'Microsoft.CodeAnalysis.VisualBasic.ExpressionEvaluator.ResultProvider.dll', 'Microsoft.Diagnostics.FastSerialization.dll', 'Microsoft.Diagnostics.MemoryGraph.dll', 'Microsoft.Diagnostics.Utilities.dll', 'Microsoft.DiaSymReader.dll', 'Microsoft.DiaSymReader.PortablePdb.dll', 'Microsoft.VisualStudio.Debugger.Engine.dll', 'Microsoft.VisualStudio.Debugger.Interop.10.0.dll', 'Microsoft.VisualStudio.Debugger.Interop.11.0.dll', 'Microsoft.VisualStudio.Debugger.Interop.12.0.dll', 'Microsoft.VisualStudio.Debugger.Interop.14.0.dll', 'Microsoft.VisualStudio.Debugger.Interop.15.0.dll', 'Microsoft.VisualStudio.Debugger.Interop.16.0.dll', 'Microsoft.VisualStudio.Debugger.Interop.Internal.dll', 'Microsoft.VisualStudio.Debugger.InteropA.dll', 'Microsoft.VisualStudio.Debugger.Metadata.dll', 'Microsoft.VisualStudio.Interop.dll', 'Microsoft.VisualStudio.OLE.Interop.dll', 'Microsoft.VisualStudio.vil.dll', 'Microsoft.VisualStudio.vil.host.dll', 'msdia140.dll', 'msvcdis140.dll', 'msvcp140.dll', 'msvcp140_atomic_wait.dll', 'msvsmon.exe', 'msvsmon.exe.config', 'PEBinComposition.dll', 'PfxTaskProvider.dll', 'symbollocator.dll', 'symsrv.dll', 'symsrv.yes', 'System.Collections.Immutable.dll', 'System.Reflection.Metadata.dll', 'ucrtbase.dll', 'vcruntime140.dll', 'vsdebugeng.dll', 'vsdebugeng.impl.dll', 'vsdebugeng.manimpl.45.dll', 'vsdebugeng.manimpl.dll', 'VsDebugLaunchNotify.exe', 'VsDebugWERHelper.exe']\n",
      "[] | ['msdbgui.dll', 'symbollocator.resources.dll', 'vsdebugeng.impl.resources.dll']\n",
      "[] | ['Microsoft.VisualStudio.Debugger.Runtime.Desktop.dll', 'Microsoft.VisualStudio.Debugger.Runtime.Impl.dll', 'Microsoft.VisualStudio.Debugger.Runtime.NetCoreApp.dll']\n",
      "['Platform'] | []\n",
      "['1033'] | ['AppEnvConfig.clientenabledpkg', 'AppEnvConfig.pkgdef', 'appenvmnu.dll', 'AppenvStub.dll']\n",
      "[] | ['appenvmui.dll']\n",
      "[] | ['blank.sln', 'blank.vsdir']\n",
      "[] | ['ToolboxItemDiscoveryCache.2ed5b6c0-e464-4454-972b-0a666a9f8c5d.dat', 'ToolboxItemDiscoveryCache.3f527a12-a490-4474-8d61-1e52a873c122.dat', 'ToolboxItemDiscoveryCache.7036b125-fa82-3aba-acb8-bdbc97782a06.dat', 'ToolboxItemDiscoveryCache.7c9becba-12b9-4480-9dbf-2345aa3c4f9a.dat']\n",
      "['VCContextItems', 'vcpackages', 'VCResourceTemplates'] | ['dircontrol.manifest']\n",
      "['ControlVariable'] | ['AddEvent.vstemplate', 'ControlVariable.vstemplate', 'EventHandler.vstemplate']\n",
      "[] | ['ActiveXWrapper.cpp', 'ActiveXWrapper.h']\n",
      "['1033'] | ['autolayt.dll', 'bined.dll', 'DirControl.dll', 'mfc140u.dll', 'rcxdti.dll', 'resedit.dll']\n",
      "[] | ['autolaytui.dll', 'DirControlUI.dll', 'rcxdtiui.dll', 'reseditui.dll']\n",
      "['1033'] | []\n",
      "[] | ['mfc.rct']\n",
      "[] | ['MessagePack.Annotations.dll', 'MessagePack.dll', 'Microsoft.Bcl.AsyncInterfaces.dll', 'Microsoft.Diagnostics.Tracing.EventSource.dll', 'Microsoft.VisualStudio.RemoteControl.dll', 'Microsoft.VisualStudio.Telemetry.dll', 'Microsoft.VisualStudio.Threading.dll', 'Microsoft.VisualStudio.Utilities.Internal.dll', 'Microsoft.VisualStudio.Validation.dll', 'Microsoft.VisualStudio.WebView2Wrapper.dll', 'Microsoft.VisualStudio.WebViewHost.RpcContracts.dll', 'Nerdbank.Streams.dll', 'Newtonsoft.Json.dll', 'StreamJsonRpc.dll', 'System.Buffers.dll', 'System.Collections.Immutable.dll', 'System.IO.Pipelines.dll', 'System.Memory.dll', 'System.Numerics.Vectors.dll', 'System.Runtime.CompilerServices.Unsafe.dll', 'System.Threading.Tasks.Dataflow.dll', 'System.Threading.Tasks.Extensions.dll', 'WebView2Loader.dll', 'WebViewHost.exe', 'WebViewHost.exe.config']\n",
      "[] | ['offreg.dll', 'VsRegistryDetour.dll']\n",
      "['Debugger'] | []\n",
      "['1033', 'Visualizers'] | ['AsyncStackWalk.natvis', 'dbgshim.dll', 'DiagnosticsHub.ClientCommon.dll', 'ecbuild.dll', 'encmgr.dll', 'msdia140.dll', 'msvcp140_atomic_wait.dll', 'natstepfilter.xsd', 'natvis.xsd', 'PfxTaskProvider.dll', 'PplTaskProvider.dll', 'symbollocator.dll', 'vcencbld.dll', 'VSDebug.dll', 'vsdebugeng.impl.dll', 'vsdebugeng.impl.vsdconfig', 'vsdebugeng.manimpl.45.vsdconfig', 'vsdebugeng.manimpl.netstandard.vsdconfig', 'vsdebugeng.manimpl.vsdconfig', 'VsDebugLaunchNotify.exe']\n",
      "[] | ['cscompeeui.dll', 'msdbgui.dll', 'MSEnc.resources.dll', 'symbollocator.resources.dll', 'vsdebugeng.impl.resources.dll', 'vsdebugui.dll']\n",
      "[] | ['atlmfc.natvis', 'concurrency.natvis', 'CppAMP.natstepfilter', 'cpp_rest.natvis', 'default.natjmc', 'default.natstepfilter', 'ObjectiveC.natvis', 'stl.natvis', 'Windows.Data.Json.natvis', 'windows.devices.geolocation.natvis', 'windows.devices.sensors.natvis', 'windows.media.natvis', 'windows.natvis', 'winrt.natvis']\n",
      "['Services'] | []\n",
      "['Microsoft.VisualStudio.ThreadedWaitDialog'] | []\n",
      "[] | ['Microsoft.VisualStudio.ThreadedWaitDialog.dll', 'Microsoft.VisualStudio.ThreadedWaitDialog.servicehub.service.json']\n",
      "['1033'] | ['errlook.exe', 'errlook.hlp', 'guidgen.exe', 'makehm.exe']\n",
      "[] | ['errlookui.dll', 'guidgenui.dll']\n",
      "['1033'] | []\n",
      "[] | ['Redist.txt', 'ThirdPartyNotices.txt']\n",
      "['Schemas'] | []\n",
      "['1033'] | ['ImageManifest.xsd', 'natstepfilter.xsd', 'PackageLanguagePackManifestSchema.xsd', 'PackageManifestSchema.Assets.xsd', 'PackageManifestSchema.Dependencies.xsd', 'PackageManifestSchema.DesignNamespace.xsd', 'PackageManifestSchema.Installation.xsd', 'PackageManifestSchema.Installer.xsd', 'PackageManifestSchema.Metadata.xsd', 'PackageManifestSchema.Prerequisites.xsd', 'PackageManifestSchema.xsd', 'VSIXLanguagePackSchema.xsd', 'VSIXManifestSchema.xsd']\n",
      "[] | ['JustMyCode.xsd', 'natvis.xsd']\n"
     ]
    }
   ],
   "source": [
    "for path , folder , file in os.walk('C:\\Program Files\\Microsoft Visual Studio'):\n",
    "    print(f\"{folder} | {file}\")"
   ]
  },
  {
   "cell_type": "code",
   "execution_count": 26,
   "metadata": {},
   "outputs": [
    {
     "data": {
      "text/plain": [
       "True"
      ]
     },
     "execution_count": 26,
     "metadata": {},
     "output_type": "execute_result"
    }
   ],
   "source": [
    "os.path.exists('C:\\Program Files\\Microsoft Visual Studio')"
   ]
  },
  {
   "cell_type": "code",
   "execution_count": null,
   "metadata": {},
   "outputs": [],
   "source": []
  }
 ],
 "metadata": {
  "kernelspec": {
   "display_name": "base",
   "language": "python",
   "name": "python3"
  },
  "language_info": {
   "codemirror_mode": {
    "name": "ipython",
    "version": 3
   },
   "file_extension": ".py",
   "mimetype": "text/x-python",
   "name": "python",
   "nbconvert_exporter": "python",
   "pygments_lexer": "ipython3",
   "version": "3.10.8"
  },
  "orig_nbformat": 4
 },
 "nbformat": 4,
 "nbformat_minor": 2
}
