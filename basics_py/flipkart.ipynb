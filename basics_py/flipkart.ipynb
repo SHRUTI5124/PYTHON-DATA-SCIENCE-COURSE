{
 "cells": [
  {
   "cell_type": "code",
   "execution_count": 1,
   "metadata": {},
   "outputs": [],
   "source": [
    "from dputils.scrape import Scraper , Tag"
   ]
  },
  {
   "cell_type": "code",
   "execution_count": 2,
   "metadata": {},
   "outputs": [
    {
     "data": {
      "text/plain": [
       "<title>Camera- Buy Products Online at Best Price in India - All Categories | Flipkart.com</title>"
      ]
     },
     "execution_count": 2,
     "metadata": {},
     "output_type": "execute_result"
    }
   ],
   "source": [
    "query='camera'\n",
    "page=2\n",
    "url=f'https://www.flipkart.com/search?q={query}&page={page}'\n",
    "scraper=Scraper(url)\n",
    "scraper.soup.title"
   ]
  },
  {
   "cell_type": "code",
   "execution_count": 4,
   "metadata": {},
   "outputs": [
    {
     "name": "stdout",
     "output_type": "stream",
     "text": [
      "24\n"
     ]
    }
   ],
   "source": [
    "# page items\n",
    "target=Tag(cls='_1YokD2 _3Mn1Gg')\n",
    "item=Tag(cls='_2kHMtA')\n",
    "# product items\n",
    "title=Tag(cls='_4rR01T')\n",
    "price=Tag(cls='_30jeq3 _1_WHN1')\n",
    "out=scraper.get_all(target,item,name=title,price=price)\n",
    "print(len(out))"
   ]
  },
  {
   "cell_type": "code",
   "execution_count": null,
   "metadata": {},
   "outputs": [],
   "source": []
  }
 ],
 "metadata": {
  "kernelspec": {
   "display_name": "base",
   "language": "python",
   "name": "python3"
  },
  "language_info": {
   "codemirror_mode": {
    "name": "ipython",
    "version": 3
   },
   "file_extension": ".py",
   "mimetype": "text/x-python",
   "name": "python",
   "nbconvert_exporter": "python",
   "pygments_lexer": "ipython3",
   "version": "3.10.8"
  },
  "orig_nbformat": 4
 },
 "nbformat": 4,
 "nbformat_minor": 2
}
