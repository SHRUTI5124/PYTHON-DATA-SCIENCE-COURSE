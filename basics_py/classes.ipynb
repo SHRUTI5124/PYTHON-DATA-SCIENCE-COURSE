{
 "cells": [
  {
   "cell_type": "code",
   "execution_count": 2,
   "metadata": {},
   "outputs": [
    {
     "name": "stdout",
     "output_type": "stream",
     "text": [
      "<class 'str'>\n"
     ]
    }
   ],
   "source": [
    "x='hello'\n",
    "print(type(x))"
   ]
  },
  {
   "cell_type": "code",
   "execution_count": 3,
   "metadata": {},
   "outputs": [],
   "source": [
    "class Dog:\n",
    "    def bark(self):\n",
    "        print(\"woof\")\n",
    "    def bite(self,item):\n",
    "        print(f\"Bitting {item}\")\n",
    "\n",
    "    def __init__(self,age , breed , gender):\n",
    "        self.age = age\n",
    "        self.breed = breed\n",
    "        self.gender = gender"
   ]
  },
  {
   "cell_type": "code",
   "execution_count": 5,
   "metadata": {},
   "outputs": [
    {
     "name": "stdout",
     "output_type": "stream",
     "text": [
      "woof\n",
      "Bitting leg\n",
      "Bitting cushion\n",
      "woof\n"
     ]
    }
   ],
   "source": [
    "tiger = Dog(3,'German Shepherd','male')\n",
    "zimmy = Dog(5,'Doberman','male')\n",
    "\n",
    "tiger.bark()\n",
    "zimmy.bite('leg')\n",
    "tiger.bite('cushion')\n",
    "zimmy.bark()"
   ]
  },
  {
   "cell_type": "code",
   "execution_count": 10,
   "metadata": {},
   "outputs": [],
   "source": [
    "class University:\n",
    "    def bca(self,student):\n",
    "        print(f\"{student} getting BCA Course\")\n",
    "    def bba(self,student):\n",
    "        print(f\"{student} getting BBA Course\")\n",
    "\n",
    "    def __init__(self) :\n",
    "        pass"
   ]
  },
  {
   "cell_type": "code",
   "execution_count": 13,
   "metadata": {},
   "outputs": [
    {
     "name": "stdout",
     "output_type": "stream",
     "text": [
      "Katyayni getting BCA Course\n"
     ]
    }
   ],
   "source": [
    "student=University()\n",
    "\n",
    "student.bca('Katyayni')"
   ]
  },
  {
   "cell_type": "code",
   "execution_count": null,
   "metadata": {},
   "outputs": [],
   "source": []
  }
 ],
 "metadata": {
  "kernelspec": {
   "display_name": "base",
   "language": "python",
   "name": "python3"
  },
  "language_info": {
   "codemirror_mode": {
    "name": "ipython",
    "version": 3
   },
   "file_extension": ".py",
   "mimetype": "text/x-python",
   "name": "python",
   "nbconvert_exporter": "python",
   "pygments_lexer": "ipython3",
   "version": "3.10.8"
  },
  "orig_nbformat": 4
 },
 "nbformat": 4,
 "nbformat_minor": 2
}
