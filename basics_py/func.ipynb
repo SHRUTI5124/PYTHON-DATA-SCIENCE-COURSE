{
 "cells": [
  {
   "cell_type": "code",
   "execution_count": 1,
   "metadata": {},
   "outputs": [],
   "source": [
    "# function to calculate area of cube\n",
    "# 1. bekaar function\n",
    "def cube():\n",
    "    a=int(input(\"enter the side:\"))  #don't take input inside a function\n",
    "    print(f\"area of cube:{a**3}\")    #don't print inside a function"
   ]
  },
  {
   "cell_type": "code",
   "execution_count": 2,
   "metadata": {},
   "outputs": [
    {
     "ename": "ValueError",
     "evalue": "invalid literal for int() with base 10: ''",
     "output_type": "error",
     "traceback": [
      "\u001b[1;31m---------------------------------------------------------------------------\u001b[0m",
      "\u001b[1;31mValueError\u001b[0m                                Traceback (most recent call last)",
      "Cell \u001b[1;32mIn[2], line 1\u001b[0m\n\u001b[1;32m----> 1\u001b[0m cube()\n",
      "Cell \u001b[1;32mIn[1], line 4\u001b[0m, in \u001b[0;36mcube\u001b[1;34m()\u001b[0m\n\u001b[0;32m      3\u001b[0m \u001b[39mdef\u001b[39;00m \u001b[39mcube\u001b[39m():\n\u001b[1;32m----> 4\u001b[0m     a\u001b[39m=\u001b[39m\u001b[39mint\u001b[39;49m(\u001b[39minput\u001b[39;49m(\u001b[39m\"\u001b[39;49m\u001b[39menter the side:\u001b[39;49m\u001b[39m\"\u001b[39;49m))  \u001b[39m#don't take input inside a function\u001b[39;00m\n\u001b[0;32m      5\u001b[0m     \u001b[39mprint\u001b[39m(\u001b[39mf\u001b[39m\u001b[39m\"\u001b[39m\u001b[39marea of cube:\u001b[39m\u001b[39m{\u001b[39;00ma\u001b[39m*\u001b[39m\u001b[39m*\u001b[39m\u001b[39m3\u001b[39m\u001b[39m}\u001b[39;00m\u001b[39m\"\u001b[39m)\n",
      "\u001b[1;31mValueError\u001b[0m: invalid literal for int() with base 10: ''"
     ]
    }
   ],
   "source": [
    "cube()"
   ]
  },
  {
   "cell_type": "code",
   "execution_count": null,
   "metadata": {},
   "outputs": [],
   "source": [
    "# 2. parameterized function (better than 1)\n",
    "def cube(side):\n",
    "    print(f\"Area of cube is {side**3}\") #don't print inside a function"
   ]
  },
  {
   "cell_type": "code",
   "execution_count": null,
   "metadata": {},
   "outputs": [
    {
     "name": "stdout",
     "output_type": "stream",
     "text": [
      "Area of cube is 125\n",
      "None\n"
     ]
    }
   ],
   "source": [
    "side=int(input(\"Enter the side:\"))\n",
    "cube(side)"
   ]
  },
  {
   "cell_type": "code",
   "execution_count": null,
   "metadata": {},
   "outputs": [
    {
     "name": "stdout",
     "output_type": "stream",
     "text": [
      "Area of cube is 1331\n",
      "Area of cube is 1728\n",
      "Area of cube is 2197\n",
      "Area of cube is 2744\n",
      "Area of cube is 3375\n",
      "Area of cube is 4096\n",
      "Area of cube is 4913\n",
      "Area of cube is 5832\n",
      "Area of cube is 6859\n",
      "Area of cube is 8000\n"
     ]
    }
   ],
   "source": [
    "for i in range(11,21):\n",
    "    cube(i)"
   ]
  },
  {
   "cell_type": "code",
   "execution_count": null,
   "metadata": {},
   "outputs": [
    {
     "name": "stdout",
     "output_type": "stream",
     "text": [
      "Area of cube is 125\n"
     ]
    }
   ],
   "source": [
    "# 3. best\n",
    "def cube():\n",
    "    s=int(input(\"enter the no.\")) # don't take input inside a function\n",
    "    return s**3\n",
    "print(f\"Area of cube is {cube()}\")"
   ]
  },
  {
   "cell_type": "code",
   "execution_count": null,
   "metadata": {},
   "outputs": [],
   "source": [
    "# 4. Bestest way\n",
    "def cube(side):  \n",
    "    '''calculate the area of cube'''\n",
    "    return side**3"
   ]
  },
  {
   "cell_type": "code",
   "execution_count": null,
   "metadata": {},
   "outputs": [
    {
     "data": {
      "text/plain": [
       "1024"
      ]
     },
     "execution_count": 12,
     "metadata": {},
     "output_type": "execute_result"
    }
   ],
   "source": [
    "cube(8)*2"
   ]
  },
  {
   "cell_type": "code",
   "execution_count": null,
   "metadata": {},
   "outputs": [],
   "source": [
    "def si(p,r,t):\n",
    "    '''Calculate the simple interest'''\n",
    "    return p*r*t/100"
   ]
  },
  {
   "cell_type": "code",
   "execution_count": null,
   "metadata": {},
   "outputs": [
    {
     "name": "stdout",
     "output_type": "stream",
     "text": [
      "Simple Interest : 4.48\n"
     ]
    }
   ],
   "source": [
    "p=int(input(\"Enter the principal amount:\"))\n",
    "r=int(input(\"Enter the rate of interest:\"))\n",
    "t=int(input(\"Enter the time:\"))\n",
    "print(f\"Simple Interest : {si(p,r,t)}\")"
   ]
  },
  {
   "cell_type": "code",
   "execution_count": null,
   "metadata": {},
   "outputs": [],
   "source": []
  },
  {
   "cell_type": "code",
   "execution_count": null,
   "metadata": {},
   "outputs": [],
   "source": []
  }
 ],
 "metadata": {
  "kernelspec": {
   "display_name": "base",
   "language": "python",
   "name": "python3"
  },
  "language_info": {
   "codemirror_mode": {
    "name": "ipython",
    "version": 3
   },
   "file_extension": ".py",
   "mimetype": "text/x-python",
   "name": "python",
   "nbconvert_exporter": "python",
   "pygments_lexer": "ipython3",
   "version": "3.10.8"
  },
  "orig_nbformat": 4,
  "vscode": {
   "interpreter": {
    "hash": "79d71d161e7943240a345005223b4b57f09b9732a24e4917a9c0467b3aef16ea"
   }
  }
 },
 "nbformat": 4,
 "nbformat_minor": 2
}
