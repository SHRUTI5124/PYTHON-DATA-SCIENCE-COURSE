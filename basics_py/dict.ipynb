{
 "cells": [
  {
   "attachments": {},
   "cell_type": "markdown",
   "metadata": {},
   "source": [
    "Dictionary properties\n",
    "\n",
    " - ordered(sequence)\n",
    " - unindexed\n",
    " - mutable(changeable)\n",
    " - duplicate values are allowed , but keys are unique\n",
    " - key:value pairs\n",
    " - keys are immutable(cannot be changed)\n",
    " - values can be heterogenous(diff. types of data)\n",
    " - denoted by '{ }'\n",
    " - a \"list of paired value\" can be converted to using \"dict( )\" function\n",
    "\n",
    " # what we need to learn\n",
    "\n",
    " - create dictionaries\n",
    " - methods"
   ]
  },
  {
   "cell_type": "code",
   "execution_count": 1,
   "metadata": {},
   "outputs": [],
   "source": [
    "series1={\n",
    "    'title':\"Physics Wallah\",\n",
    "    'total_seasons':6,\n",
    "    'Genre':\"Suspense\",\n",
    "    'Available_on':\"Amazon prime\"\n",
    "}"
   ]
  },
  {
   "cell_type": "code",
   "execution_count": 2,
   "metadata": {},
   "outputs": [
    {
     "data": {
      "text/plain": [
       "'Physics Wallah'"
      ]
     },
     "execution_count": 2,
     "metadata": {},
     "output_type": "execute_result"
    }
   ],
   "source": [
    "series1['title']"
   ]
  },
  {
   "cell_type": "code",
   "execution_count": 3,
   "metadata": {},
   "outputs": [],
   "source": [
    "series2={}  # empty dictionary"
   ]
  },
  {
   "cell_type": "code",
   "execution_count": 4,
   "metadata": {},
   "outputs": [],
   "source": [
    "series2['title']=\"Gullak\" # add the data into the dictionary"
   ]
  },
  {
   "cell_type": "code",
   "execution_count": 5,
   "metadata": {},
   "outputs": [
    {
     "data": {
      "text/plain": [
       "{'title': 'Gullak'}"
      ]
     },
     "execution_count": 5,
     "metadata": {},
     "output_type": "execute_result"
    }
   ],
   "source": [
    "series2"
   ]
  },
  {
   "cell_type": "code",
   "execution_count": 6,
   "metadata": {},
   "outputs": [],
   "source": [
    "series2['seasons']=6 # add the data into the dictionary\n",
    "series2['episodes']=15  # add the data into the dictionary"
   ]
  },
  {
   "cell_type": "code",
   "execution_count": 7,
   "metadata": {},
   "outputs": [
    {
     "data": {
      "text/plain": [
       "{'title': 'Gullak', 'seasons': 6, 'episodes': 15}"
      ]
     },
     "execution_count": 7,
     "metadata": {},
     "output_type": "execute_result"
    }
   ],
   "source": [
    "series2"
   ]
  },
  {
   "attachments": {},
   "cell_type": "markdown",
   "metadata": {},
   "source": [
    " Nested Dictionary"
   ]
  },
  {
   "cell_type": "code",
   "execution_count": 8,
   "metadata": {},
   "outputs": [],
   "source": [
    "books={\n",
    "    'book1':{\n",
    "        'title':\"The Fire of Wings\",\n",
    "        'author':\"Dr. A.P.J. Abdul Kalam\",\n",
    "        'summary':\"Life history of Dr. A.P.J. Abdul Kalam\"\n",
    "    },\n",
    "    'book2':{\n",
    "        'title':\"The Bands of Mourning\",\n",
    "        'author':\"Bradon Saderson\",\n",
    "        'summary':\"The second book in the mistborn series era 2\"\n",
    "    },\n",
    "    'book3':{\n",
    "        'title':\"The lost metal\",\n",
    "        'author':\"Bradon Saderson\",\n",
    "        'summary':\"The fourth book in the mistborn series era 2\"\n",
    "    }\n",
    "}"
   ]
  },
  {
   "cell_type": "code",
   "execution_count": 9,
   "metadata": {},
   "outputs": [
    {
     "data": {
      "text/plain": [
       "{'title': 'The Fire of Wings',\n",
       " 'author': 'Dr. A.P.J. Abdul Kalam',\n",
       " 'summary': 'Life history of Dr. A.P.J. Abdul Kalam'}"
      ]
     },
     "execution_count": 9,
     "metadata": {},
     "output_type": "execute_result"
    }
   ],
   "source": [
    "books[\"book1\"]"
   ]
  },
  {
   "cell_type": "code",
   "execution_count": 10,
   "metadata": {},
   "outputs": [
    {
     "data": {
      "text/plain": [
       "'The Bands of Mourning'"
      ]
     },
     "execution_count": 10,
     "metadata": {},
     "output_type": "execute_result"
    }
   ],
   "source": [
    "books['book2']['title']"
   ]
  },
  {
   "cell_type": "code",
   "execution_count": 11,
   "metadata": {},
   "outputs": [
    {
     "name": "stdout",
     "output_type": "stream",
     "text": [
      "title Physics Wallah\n",
      "total_seasons 6\n",
      "Genre Suspense\n",
      "Available_on Amazon prime\n"
     ]
    }
   ],
   "source": [
    "for i in series1:\n",
    "    print(i,series1[i])"
   ]
  },
  {
   "cell_type": "code",
   "execution_count": 12,
   "metadata": {},
   "outputs": [
    {
     "name": "stdout",
     "output_type": "stream",
     "text": [
      "title Physics Wallah\n",
      "total_seasons 6\n",
      "Genre Suspense\n",
      "Available_on Amazon prime\n"
     ]
    }
   ],
   "source": [
    "for i,j in series1.items():\n",
    "    print(i,j)"
   ]
  },
  {
   "cell_type": "code",
   "execution_count": 13,
   "metadata": {},
   "outputs": [
    {
     "name": "stdout",
     "output_type": "stream",
     "text": [
      "book1 title The Fire of Wings\n",
      "book1 author Dr. A.P.J. Abdul Kalam\n",
      "book1 summary Life history of Dr. A.P.J. Abdul Kalam\n",
      "book2 title The Bands of Mourning\n",
      "book2 author Bradon Saderson\n",
      "book2 summary The second book in the mistborn series era 2\n",
      "book3 title The lost metal\n",
      "book3 author Bradon Saderson\n",
      "book3 summary The fourth book in the mistborn series era 2\n"
     ]
    }
   ],
   "source": [
    "for k,v in books.items():\n",
    "    for k1,v1 in v.items():\n",
    "        print(k,k1,v1)"
   ]
  },
  {
   "cell_type": "code",
   "execution_count": 14,
   "metadata": {},
   "outputs": [
    {
     "data": {
      "text/plain": [
       "['title', 'total_seasons', 'Genre', 'Available_on']"
      ]
     },
     "execution_count": 14,
     "metadata": {},
     "output_type": "execute_result"
    }
   ],
   "source": [
    "list(series1.keys())"
   ]
  },
  {
   "cell_type": "code",
   "execution_count": 15,
   "metadata": {},
   "outputs": [
    {
     "data": {
      "text/plain": [
       "['Physics Wallah', 6, 'Suspense', 'Amazon prime']"
      ]
     },
     "execution_count": 15,
     "metadata": {},
     "output_type": "execute_result"
    }
   ],
   "source": [
    "list(series1.values())"
   ]
  },
  {
   "cell_type": "code",
   "execution_count": 16,
   "metadata": {},
   "outputs": [
    {
     "data": {
      "text/plain": [
       "dict_items([('book1', {'title': 'The Fire of Wings', 'author': 'Dr. A.P.J. Abdul Kalam', 'summary': 'Life history of Dr. A.P.J. Abdul Kalam'}), ('book2', {'title': 'The Bands of Mourning', 'author': 'Bradon Saderson', 'summary': 'The second book in the mistborn series era 2'}), ('book3', {'title': 'The lost metal', 'author': 'Bradon Saderson', 'summary': 'The fourth book in the mistborn series era 2'})])"
      ]
     },
     "execution_count": 16,
     "metadata": {},
     "output_type": "execute_result"
    }
   ],
   "source": [
    "books.items()"
   ]
  },
  {
   "cell_type": "code",
   "execution_count": 17,
   "metadata": {},
   "outputs": [
    {
     "data": {
      "text/plain": [
       "{'title': 'The lost metal',\n",
       " 'author': 'Bradon Saderson',\n",
       " 'summary': 'The fourth book in the mistborn series era 2'}"
      ]
     },
     "execution_count": 17,
     "metadata": {},
     "output_type": "execute_result"
    }
   ],
   "source": [
    "books.pop(\"book3\")"
   ]
  },
  {
   "cell_type": "code",
   "execution_count": 18,
   "metadata": {},
   "outputs": [
    {
     "data": {
      "text/plain": [
       "{'book1': {'title': 'The Fire of Wings',\n",
       "  'author': 'Dr. A.P.J. Abdul Kalam',\n",
       "  'summary': 'Life history of Dr. A.P.J. Abdul Kalam'},\n",
       " 'book2': {'title': 'The Bands of Mourning',\n",
       "  'author': 'Bradon Saderson',\n",
       "  'summary': 'The second book in the mistborn series era 2'},\n",
       " 'series1': {'title': 'Physics Wallah',\n",
       "  'total_seasons': 6,\n",
       "  'Genre': 'Suspense',\n",
       "  'Available_on': 'Amazon prime'},\n",
       " 'series2': {'title': 'Gullak', 'seasons': 6, 'episodes': 15}}"
      ]
     },
     "execution_count": 18,
     "metadata": {},
     "output_type": "execute_result"
    }
   ],
   "source": [
    "books.update({'series1':series1,'series2':series2})\n",
    "books"
   ]
  },
  {
   "cell_type": "code",
   "execution_count": 19,
   "metadata": {},
   "outputs": [
    {
     "name": "stdout",
     "output_type": "stream",
     "text": [
      "{'name': '', 'phone': ''}\n"
     ]
    }
   ],
   "source": [
    "contacts={}\n",
    "nm=input(\"Enter name:\")\n",
    "ph=input(\"Enter phone no.:\")\n",
    "contacts['name']=nm\n",
    "contacts['phone']=ph\n",
    "\n",
    "print(contacts)"
   ]
  },
  {
   "cell_type": "code",
   "execution_count": null,
   "metadata": {},
   "outputs": [],
   "source": []
  }
 ],
 "metadata": {
  "kernelspec": {
   "display_name": "base",
   "language": "python",
   "name": "python3"
  },
  "language_info": {
   "codemirror_mode": {
    "name": "ipython",
    "version": 3
   },
   "file_extension": ".py",
   "mimetype": "text/x-python",
   "name": "python",
   "nbconvert_exporter": "python",
   "pygments_lexer": "ipython3",
   "version": "3.10.8"
  },
  "orig_nbformat": 4,
  "vscode": {
   "interpreter": {
    "hash": "79d71d161e7943240a345005223b4b57f09b9732a24e4917a9c0467b3aef16ea"
   }
  }
 },
 "nbformat": 4,
 "nbformat_minor": 2
}
