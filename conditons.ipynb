{
 "cells": [
  {
   "cell_type": "code",
   "execution_count": 1,
   "metadata": {},
   "outputs": [
    {
     "name": "stdout",
     "output_type": "stream",
     "text": [
      "yes✔\n"
     ]
    }
   ],
   "source": [
    "x=5\n",
    "if x>3:\n",
    "    print(\"yes✔\")\n",
    "else:\n",
    "    print(\"no\")"
   ]
  },
  {
   "cell_type": "code",
   "execution_count": 2,
   "metadata": {},
   "outputs": [
    {
     "name": "stdout",
     "output_type": "stream",
     "text": [
      "u are followed the instructions\n",
      "good job👍\n"
     ]
    }
   ],
   "source": [
    "a=input(\"enter a no.\")\n",
    "if a.isnumeric():\n",
    "    print(\"u are followed the instructions\")\n",
    "    print(\"good job👍\")\n",
    "else:\n",
    "    print(\"u are not followed the instructions\")\n",
    "    print(\"try again🤦‍♂️\")\n"
   ]
  },
  {
   "cell_type": "code",
   "execution_count": 3,
   "metadata": {},
   "outputs": [
    {
     "name": "stdout",
     "output_type": "stream",
     "text": [
      "ur order is on it's way\n"
     ]
    }
   ],
   "source": [
    "menu=[\"pizza\",\"pasta\",\"salad\",\"nachos\"]\n",
    "order=input(\"what would like to order😊\")\n",
    "if order in menu:\n",
    "    print(\"ur order is on it's way\")\n",
    "else:\n",
    "    print(\"better luck next time👍\")"
   ]
  },
  {
   "cell_type": "code",
   "execution_count": 1,
   "metadata": {},
   "outputs": [
    {
     "name": "stdout",
     "output_type": "stream",
     "text": [
      "GRADE C\n"
     ]
    }
   ],
   "source": [
    "x=int(input(\"enter a no.:\"))\n",
    "if x<20 :\n",
    "    print(\"GRADE E\")\n",
    "elif x>=20 and x<40:\n",
    "    print(\"GRADE D\")  \n",
    "elif x>=40 and x<60:\n",
    "    print(\"GRADE C\")\n",
    "elif x>=60 and x<80:\n",
    "    print(\"GRADE B\")\n",
    "elif x>=80 and x<100:\n",
    "    print(\"GRADE A\")\n",
    "else :\n",
    "    print(\"INVALID ENTRY🤦‍♀️🤦\")"
   ]
  },
  {
   "cell_type": "code",
   "execution_count": 3,
   "metadata": {},
   "outputs": [
    {
     "name": "stdout",
     "output_type": "stream",
     "text": [
      "Passwotrds do not match!\n"
     ]
    }
   ],
   "source": [
    "uname=input(\"Enter user name:\")\n",
    "email=input(\"Enter your e-mail:\")\n",
    "pwd=input(\"Enter your password:\")\n",
    "cpwd=input(\"Confirm password:\")\n",
    "if len(uname) >=4 or len(uname)<=8:\n",
    "    if \"@\" in email and len(email)>6:\n",
    "        if len(pwd) >=8 and len(pwd) <=20 and pwd != uname:\n",
    "            if pwd==cpwd:\n",
    "                print(\"Congratulations 🎁\")\n",
    "            else:\n",
    "                print(\"Passwotrds do not match!\")\n",
    "        else:\n",
    "            print(\"Password Invalid😒😒\")\n",
    "    else:\n",
    "        print(\"Email is Invalid😢\")\n",
    "else :\n",
    "    print(\"u are chutiya🤦‍♀️🤦‍♀️\")"
   ]
  },
  {
   "cell_type": "code",
   "execution_count": 4,
   "metadata": {},
   "outputs": [
    {
     "name": "stdout",
     "output_type": "stream",
     "text": [
      "i don't care......\n"
     ]
    }
   ],
   "source": [
    "name=input(\"enter ur name:\")\n",
    "match name:\n",
    "    case \"ajay\": print(\"u are ajay\")\n",
    "    case \"vijay\":print(\"u are vijay\")\n",
    "    case \"raju\":print(\"u are raju\")\n",
    "    case _:print(\"i don't care......\")"
   ]
  },
  {
   "cell_type": "code",
   "execution_count": 1,
   "metadata": {},
   "outputs": [
    {
     "name": "stdout",
     "output_type": "stream",
     "text": [
      "tm to chutiya hi ho\n"
     ]
    }
   ],
   "source": [
    "sname=input(\"enter ur name:\")\n",
    "match sname:\n",
    "    case \"ayush\":print(\"Pagal hoge tm.......kuch yaad aaya\")\n",
    "    case \"anshu\":print(\"tm to chutiya hi ho\")\n",
    "    case _:print(\"good\")"
   ]
  },
  {
   "cell_type": "code",
   "execution_count": 13,
   "metadata": {},
   "outputs": [
    {
     "name": "stdout",
     "output_type": "stream",
     "text": [
      "total salary is 56000.0\n"
     ]
    }
   ],
   "source": [
    "designation=input(\"Enter ur designation\")\n",
    "match designation:\n",
    "    case \"manager\":\n",
    "        bs=50000\n",
    "        bns=bs*.1\n",
    "        hra=bs*.2\n",
    "        ts=bs+bns+hra\n",
    "        print(f\"Total salary:{ts}\")\n",
    "        pass\n",
    "    case \"developer\":\n",
    "        bs=40000\n",
    "        bns=bs*.2\n",
    "        hra=bs*.2\n",
    "        ts=bs+bns+hra\n",
    "        print(f\"total salary is {ts}\")\n",
    "        pass\n",
    "    case \"tester\":\n",
    "        bs=30000\n",
    "        bns=bs*.3\n",
    "        hra=bs*.2\n",
    "        ts=bs+bns+hra\n",
    "        print(f\"ur total salary is {ts}\")\n",
    "        pass\n",
    "    case _:print(\"u are too much bhikhari!🤣🤣\")"
   ]
  },
  {
   "cell_type": "code",
   "execution_count": null,
   "metadata": {},
   "outputs": [],
   "source": []
  }
 ],
 "metadata": {
  "kernelspec": {
   "display_name": "base",
   "language": "python",
   "name": "python3"
  },
  "language_info": {
   "codemirror_mode": {
    "name": "ipython",
    "version": 3
   },
   "file_extension": ".py",
   "mimetype": "text/x-python",
   "name": "python",
   "nbconvert_exporter": "python",
   "pygments_lexer": "ipython3",
   "version": "3.10.8"
  },
  "orig_nbformat": 4,
  "vscode": {
   "interpreter": {
    "hash": "79d71d161e7943240a345005223b4b57f09b9732a24e4917a9c0467b3aef16ea"
   }
  }
 },
 "nbformat": 4,
 "nbformat_minor": 2
}
