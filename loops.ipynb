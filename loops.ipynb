{
 "cells": [
  {
   "cell_type": "code",
   "execution_count": 1,
   "metadata": {},
   "outputs": [
    {
     "name": "stdout",
     "output_type": "stream",
     "text": [
      "18\n",
      "45\n",
      "63\n",
      "12\n",
      "47\n"
     ]
    }
   ],
   "source": [
    "x=[18,45,63,12,47]\n",
    "for i in x:\n",
    "    print(i)"
   ]
  },
  {
   "cell_type": "code",
   "execution_count": 2,
   "metadata": {},
   "outputs": [
    {
     "name": "stdout",
     "output_type": "stream",
     "text": [
      "have u seen tiger\n",
      "have u seen elephant\n",
      "have u seen leopard\n"
     ]
    }
   ],
   "source": [
    "animals=[\"tiger\",\"elephant\",\"leopard\"]\n",
    "for i in animals:\n",
    "    print(f\"have u seen {i}\")"
   ]
  },
  {
   "cell_type": "code",
   "execution_count": 4,
   "metadata": {},
   "outputs": [
    {
     "name": "stdout",
     "output_type": "stream",
     "text": [
      "RRR                  :3\n",
      "KKK gham             :8\n",
      "HM aapk h kaun       :14\n",
      "vivah                :5\n",
      "rocketary            :9\n",
      "captain america      :15\n",
      "thor                 :4\n",
      "jumanji              :7\n",
      "KGF                  :3\n",
      "PANTHER              :7\n",
      "bahubali             :8\n"
     ]
    }
   ],
   "source": [
    "movies=[\"RRR\",\"KKK gham\",\"HM aapk h kaun\",\"vivah\",\"rocketary\",\"captain america\",\"thor\",\"jumanji\",\"KGF\",\"PANTHER\",\"bahubali\"]\n",
    "for i in movies:\n",
    "    print(f\"{i:20} :{len(i)}\")"
   ]
  },
  {
   "cell_type": "code",
   "execution_count": 6,
   "metadata": {},
   "outputs": [
    {
     "name": "stdout",
     "output_type": "stream",
     "text": [
      "black\n",
      "black\n",
      "indigo\n",
      "orange\n",
      "pink\n"
     ]
    }
   ],
   "source": [
    "colors=(\"voilet\",\"black\",\"indigo\",\"blue\",\"green\",\"yellow\",\"orange\",\"red\",\"white\",\"pink\",\"grey\")\n",
    "for i in colors:\n",
    "    if \"a\" in i:\n",
    "        print(i)\n",
    "    if \"e\" not in i:\n",
    "        print(i)"
   ]
  },
  {
   "cell_type": "code",
   "execution_count": 7,
   "metadata": {},
   "outputs": [
    {
     "name": "stdout",
     "output_type": "stream",
     "text": [
      "0 1 2 3 4 5 6 7 8 9 "
     ]
    }
   ],
   "source": [
    "for i in range(10):\n",
    "    print(i,end=\" \")"
   ]
  },
  {
   "cell_type": "code",
   "execution_count": 8,
   "metadata": {},
   "outputs": [
    {
     "name": "stdout",
     "output_type": "stream",
     "text": [
      "15 16 17 18 19 20 21 22 23 24 25 26 27 28 29 30 "
     ]
    }
   ],
   "source": [
    "for i in range(15,31):\n",
    "    print(i,end=\" \")"
   ]
  },
  {
   "cell_type": "code",
   "execution_count": 9,
   "metadata": {},
   "outputs": [
    {
     "name": "stdout",
     "output_type": "stream",
     "text": [
      "1 6 11 16 21 26 31 36 41 46 51 56 61 66 71 76 81 86 91 96 "
     ]
    }
   ],
   "source": [
    "for i in range(1,101,5):\n",
    "    print(i,end=\" \")"
   ]
  },
  {
   "cell_type": "code",
   "execution_count": 10,
   "metadata": {},
   "outputs": [
    {
     "name": "stdout",
     "output_type": "stream",
     "text": [
      "10 9 8 7 6 5 4 3 2 1 "
     ]
    }
   ],
   "source": [
    "for i in range(10,0,-1):\n",
    "    print(i,end=\" \")"
   ]
  },
  {
   "cell_type": "code",
   "execution_count": 12,
   "metadata": {},
   "outputs": [
    {
     "name": "stdout",
     "output_type": "stream",
     "text": [
      "(0, 'RRR')\n",
      "(1, 'KKK gham')\n",
      "(2, 'HM aapk h kaun')\n",
      "(3, 'vivah')\n",
      "(4, 'rocketary')\n",
      "(5, 'captain america')\n",
      "(6, 'thor')\n",
      "(7, 'jumanji')\n",
      "(8, 'KGF')\n",
      "(9, 'PANTHER')\n",
      "(10, 'bahubali')\n"
     ]
    }
   ],
   "source": [
    "# enumeration\n",
    "for i in enumerate(movies):\n",
    "    print(i)"
   ]
  },
  {
   "cell_type": "code",
   "execution_count": 13,
   "metadata": {},
   "outputs": [
    {
     "name": "stdout",
     "output_type": "stream",
     "text": [
      "0 RRR\n",
      "1 KKK gham\n",
      "2 HM aapk h kaun\n",
      "3 vivah\n",
      "4 rocketary\n",
      "5 captain america\n",
      "6 thor\n",
      "7 jumanji\n",
      "8 KGF\n",
      "9 PANTHER\n",
      "10 bahubali\n"
     ]
    }
   ],
   "source": [
    "for i,m in enumerate(movies):\n",
    "    print(i,m)"
   ]
  },
  {
   "cell_type": "code",
   "execution_count": 14,
   "metadata": {},
   "outputs": [
    {
     "name": "stdout",
     "output_type": "stream",
     "text": [
      "0 RRR\n",
      "1 KKK gham\n",
      "2 HM aapk h kaun\n",
      "3 vivah\n"
     ]
    }
   ],
   "source": [
    "for i,m in enumerate(movies):\n",
    "    if i<4:\n",
    "     print(i,m)"
   ]
  },
  {
   "cell_type": "code",
   "execution_count": 3,
   "metadata": {},
   "outputs": [],
   "source": [
    "x=[2,56,48,74,12]\n",
    "y=[25,65,98,14,3]\n",
    "z=[54,12,36,95,7]"
   ]
  },
  {
   "cell_type": "code",
   "execution_count": 4,
   "metadata": {},
   "outputs": [
    {
     "name": "stdout",
     "output_type": "stream",
     "text": [
      "81\n",
      "133\n",
      "182\n",
      "183\n",
      "22\n"
     ]
    }
   ],
   "source": [
    "#non pythonic(bekaar tarika)\n",
    "for i in range(len(x)):\n",
    "    print(x[i]+y[i]+z[i])"
   ]
  },
  {
   "cell_type": "code",
   "execution_count": 5,
   "metadata": {},
   "outputs": [
    {
     "name": "stdout",
     "output_type": "stream",
     "text": [
      "81 133 182 183 22 "
     ]
    }
   ],
   "source": [
    "#pythonic way(good way)\n",
    "for i,j,k in zip(x,y,z):\n",
    "    print(i+j+k,end=\" \")"
   ]
  },
  {
   "cell_type": "code",
   "execution_count": 22,
   "metadata": {},
   "outputs": [
    {
     "name": "stdout",
     "output_type": "stream",
     "text": [
      "total:601\n"
     ]
    }
   ],
   "source": [
    "#for total\n",
    "total=0\n",
    "for i,j,k in zip(x,y,z):\n",
    "    total+=i+j+k\n",
    "print(f\"total:{total}\")"
   ]
  },
  {
   "cell_type": "code",
   "execution_count": 6,
   "metadata": {},
   "outputs": [],
   "source": [
    "#continue keyword\n",
    "data=[1,2,3,0,5,6,8,9,0,0,5,None,3,0,2,5,6]"
   ]
  },
  {
   "cell_type": "code",
   "execution_count": 7,
   "metadata": {},
   "outputs": [
    {
     "name": "stdout",
     "output_type": "stream",
     "text": [
      "1 2 3 0 5 6 8 9 0 0 5 "
     ]
    }
   ],
   "source": [
    "# break keyword\n",
    "for i in data:\n",
    "    if i==None:\n",
    "        break\n",
    "    print(i,end=\" \")"
   ]
  },
  {
   "cell_type": "code",
   "execution_count": 8,
   "metadata": {},
   "outputs": [
    {
     "name": "stdout",
     "output_type": "stream",
     "text": [
      "1 2 3 5 6 8 9 5 "
     ]
    }
   ],
   "source": [
    "#both break and co\n",
    "for i in data:\n",
    "    if i==0: continue\n",
    "    if i==None: break\n",
    "    print(i,end=\" \")"
   ]
  },
  {
   "cell_type": "code",
   "execution_count": 4,
   "metadata": {},
   "outputs": [
    {
     "name": "stdout",
     "output_type": "stream",
     "text": [
      "welcome master ✔\n"
     ]
    }
   ],
   "source": [
    "retries=0\n",
    "while retries <3:\n",
    "    pin=input(\"enter the pin:\")\n",
    "    if pin==\"1234\":\n",
    "        print(\"welcome master ✔\")\n",
    "        break\n",
    "    else:\n",
    "        print(\"wrong password😜\")\n",
    "        retries+=1"
   ]
  },
  {
   "cell_type": "code",
   "execution_count": null,
   "metadata": {},
   "outputs": [],
   "source": []
  }
 ],
 "metadata": {
  "kernelspec": {
   "display_name": "base",
   "language": "python",
   "name": "python3"
  },
  "language_info": {
   "codemirror_mode": {
    "name": "ipython",
    "version": 3
   },
   "file_extension": ".py",
   "mimetype": "text/x-python",
   "name": "python",
   "nbconvert_exporter": "python",
   "pygments_lexer": "ipython3",
   "version": "3.10.8"
  },
  "orig_nbformat": 4,
  "vscode": {
   "interpreter": {
    "hash": "79d71d161e7943240a345005223b4b57f09b9732a24e4917a9c0467b3aef16ea"
   }
  }
 },
 "nbformat": 4,
 "nbformat_minor": 2
}
