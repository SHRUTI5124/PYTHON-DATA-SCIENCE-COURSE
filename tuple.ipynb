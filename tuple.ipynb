{
 "cells": [
  {
   "attachments": {},
   "cell_type": "markdown",
   "metadata": {},
   "source": [
    "Tuple properties\n",
    "\n",
    " - ordered(sequence)\n",
    " - indexed\n",
    " - immutable(changeable)\n",
    " - duplicate values are allowed\n",
    " - heterogenous(diff. types of data)\n",
    " - tuple id denoted by()\n",
    " - an iterable can be converted to using \"tuple()\" function"
   ]
  },
  {
   "cell_type": "code",
   "execution_count": null,
   "metadata": {},
   "outputs": [],
   "source": []
  },
  {
   "cell_type": "code",
   "execution_count": 1,
   "metadata": {},
   "outputs": [
    {
     "name": "stdout",
     "output_type": "stream",
     "text": [
      "(1, 2, 3, 4)\n"
     ]
    }
   ],
   "source": [
    "x=(1,2,3,4) # simple tuple\n",
    "print(x)"
   ]
  },
  {
   "cell_type": "code",
   "execution_count": 2,
   "metadata": {},
   "outputs": [
    {
     "name": "stdout",
     "output_type": "stream",
     "text": [
      "(12, 56, 23, 45)\n"
     ]
    }
   ],
   "source": [
    "y=12,56,23,45 #tuple packing\n",
    "print(y)"
   ]
  },
  {
   "cell_type": "code",
   "execution_count": 3,
   "metadata": {},
   "outputs": [
    {
     "name": "stdout",
     "output_type": "stream",
     "text": [
      "12 45 125\n",
      "12 [45, 125]\n"
     ]
    },
    {
     "ename": "ValueError",
     "evalue": "too many values to unpack (expected 2)",
     "output_type": "error",
     "traceback": [
      "\u001b[1;31m---------------------------------------------------------------------------\u001b[0m",
      "\u001b[1;31mValueError\u001b[0m                                Traceback (most recent call last)",
      "Cell \u001b[1;32mIn[3], line 5\u001b[0m\n\u001b[0;32m      3\u001b[0m a,\u001b[39m*\u001b[39mb\u001b[39m=\u001b[39m(\u001b[39m12\u001b[39m,\u001b[39m45\u001b[39m,\u001b[39m125\u001b[39m)\n\u001b[0;32m      4\u001b[0m \u001b[39mprint\u001b[39m(a,b)\n\u001b[1;32m----> 5\u001b[0m a,b\u001b[39m=\u001b[39m(\u001b[39m1\u001b[39m,\u001b[39m2\u001b[39m,\u001b[39m3\u001b[39m)  \u001b[39m#Error:too many values\u001b[39;00m\n\u001b[0;32m      6\u001b[0m a,b,c,d\u001b[39m=\u001b[39m(\u001b[39m1\u001b[39m,\u001b[39m2\u001b[39m,\u001b[39m34\u001b[39m)\n",
      "\u001b[1;31mValueError\u001b[0m: too many values to unpack (expected 2)"
     ]
    }
   ],
   "source": [
    "a,b,c=(12,45,125) # tuple unpacking\n",
    "print(a,b,c)\n",
    "a,*b=(12,45,125)\n",
    "print(a,b)\n",
    "a,b=(1,2,3)  #Error:too many values\n",
    "a,b,c,d=(1,2,34) #Error"
   ]
  },
  {
   "cell_type": "code",
   "execution_count": null,
   "metadata": {},
   "outputs": [
    {
     "name": "stdout",
     "output_type": "stream",
     "text": [
      "(1, 2, 3, 4)\n",
      "('d', 'i', 'g', 'i', 'p', 'o', 'd', 'i', 'u', 'm')\n"
     ]
    }
   ],
   "source": [
    "x=[1,2,3,4]\n",
    "xt=tuple(x)\n",
    "s=\"digipodium\"\n",
    "st=tuple(s)\n",
    "print(xt,st,sep='\\n')"
   ]
  },
  {
   "cell_type": "code",
   "execution_count": null,
   "metadata": {},
   "outputs": [
    {
     "name": "stdout",
     "output_type": "stream",
     "text": [
      "8\n",
      "6\n"
     ]
    }
   ],
   "source": [
    "y=(1,2,3,4,5,6,7,8,912,2546,2154,541543,145451,3,3,3,3,3,58)\n",
    "print(y.index(912))\n",
    "print(y.count(3))"
   ]
  },
  {
   "cell_type": "code",
   "execution_count": null,
   "metadata": {},
   "outputs": [
    {
     "name": "stdout",
     "output_type": "stream",
     "text": [
      "(3, 5, 6, 1, 2, 3)\n"
     ]
    }
   ],
   "source": [
    "a=(1,2,3)\n",
    "c=(3,5,6)\n",
    "c+=a\n",
    "print(c)"
   ]
  },
  {
   "cell_type": "code",
   "execution_count": null,
   "metadata": {},
   "outputs": [],
   "source": []
  }
 ],
 "metadata": {
  "kernelspec": {
   "display_name": "base",
   "language": "python",
   "name": "python3"
  },
  "language_info": {
   "codemirror_mode": {
    "name": "ipython",
    "version": 3
   },
   "file_extension": ".py",
   "mimetype": "text/x-python",
   "name": "python",
   "nbconvert_exporter": "python",
   "pygments_lexer": "ipython3",
   "version": "3.10.8"
  },
  "orig_nbformat": 4,
  "vscode": {
   "interpreter": {
    "hash": "79d71d161e7943240a345005223b4b57f09b9732a24e4917a9c0467b3aef16ea"
   }
  }
 },
 "nbformat": 4,
 "nbformat_minor": 2
}
